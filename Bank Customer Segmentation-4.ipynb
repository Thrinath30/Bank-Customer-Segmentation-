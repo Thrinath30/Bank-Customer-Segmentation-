{
 "cells": [
  {
   "cell_type": "markdown",
   "id": "efde1cc6-a991-4f92-8e38-6875536937ff",
   "metadata": {},
   "source": [
    "## RFM Analysis on Bank Customers"
   ]
  },
  {
   "cell_type": "markdown",
   "id": "eab381b5-2cbc-4d09-8ee9-4404eb4414b2",
   "metadata": {},
   "source": [
    "##### The project aims to examine the demographic characteristics of the bank's customers, perform segmentation based on their deposits in the bank, and provide possible recommendations and tactics to utilize the services the bank offers to its depositors in the most optimal way possible.\n",
    "\n",
    "##### Nowadays, traditional banks face challenges from emerging digital banks and competitors who employ targeted strategies to personalize their products and services in order to retain customers and depositors. Furthermore, due to limited resources, it is crucial for banks to identify the most valuable customer groups, loyal customers, and high-potential groups for future development.\n",
    "\n",
    "##### The RFM approach which stands for (Recency, Frequency, and Monetary), can serve as a valuable and intuitive approach for banks to categorize their customers and address their business questions and problems. In this analysis, the analyst will utilize sample data to create customer segments based on their transactional behavior and provide recommendations on how bank managers can develop targeted plans for each group to maximize profitability.t."
   ]
  },
  {
   "cell_type": "markdown",
   "id": "47d88d3b-d1b3-4fd8-9823-38777d3d9d27",
   "metadata": {},
   "source": [
    "#### The content in the project:\n",
    "\n",
    "##### 1.RFM Model: Recency, Frequency, Monetary Score. This is a customer segmentation technique used by businesses to understand and classify their customer base based on their transactional behavior. It is a data-driven approach that provides insights into customer value, engagement, and potential.\n",
    "\n",
    "##### 2.Pareto Analysis: How many customers contribute to the most transaction volume? In Pareto analysis, data is collected and analyzed to determine which factors or inputs have the most significant impact on a particular outcome. This analysis helps in identifying the \"vital few\" factors that contribute the most to the desired outcome, as well as the \"trivial many\" factors that have relatively little impact.\n",
    "\n",
    "##### 3.Customer Strategy:- This is based on the segmentation and analysis result.,The possibleh strategiesmightd the bank utilize to better allocate its servicing recourses and customizeitsr offerings to the customer"
   ]
  },
  {
   "cell_type": "code",
   "execution_count": 9,
   "id": "cc7a2892-8656-4e0e-a979-0280f57c1b72",
   "metadata": {},
   "outputs": [],
   "source": [
    "import numpy as np \n",
    "import pandas as pd \n",
    "import matplotlib.pyplot as plt\n",
    "import seaborn as sns\n",
    "from datetime import datetime\n",
    "pd.set_option('display.float_format',lambda x: '%.2f' % x)\n",
    "import warnings\n",
    "warnings.filterwarnings('ignore')"
   ]
  },
  {
   "cell_type": "markdown",
   "id": "42edde7d-0f53-4530-bd40-f16b9a0e856d",
   "metadata": {},
   "source": [
    "### 1. Data Cleaning¶"
   ]
  },
  {
   "cell_type": "code",
   "execution_count": 12,
   "id": "4ff0fe6b-346b-4fb7-8708-4b42d261850a",
   "metadata": {},
   "outputs": [
    {
     "data": {
      "text/html": [
       "<div>\n",
       "<style scoped>\n",
       "    .dataframe tbody tr th:only-of-type {\n",
       "        vertical-align: middle;\n",
       "    }\n",
       "\n",
       "    .dataframe tbody tr th {\n",
       "        vertical-align: top;\n",
       "    }\n",
       "\n",
       "    .dataframe thead th {\n",
       "        text-align: right;\n",
       "    }\n",
       "</style>\n",
       "<table border=\"1\" class=\"dataframe\">\n",
       "  <thead>\n",
       "    <tr style=\"text-align: right;\">\n",
       "      <th></th>\n",
       "      <th>TransactionID</th>\n",
       "      <th>CustomerID</th>\n",
       "      <th>CustomerDOB</th>\n",
       "      <th>CustGender</th>\n",
       "      <th>CustLocation</th>\n",
       "      <th>CustAccountBalance</th>\n",
       "      <th>TransactionDate</th>\n",
       "      <th>TransactionTime</th>\n",
       "      <th>TransactionAmount (INR)</th>\n",
       "    </tr>\n",
       "  </thead>\n",
       "  <tbody>\n",
       "    <tr>\n",
       "      <th>0</th>\n",
       "      <td>T1</td>\n",
       "      <td>C5841053</td>\n",
       "      <td>10/1/94</td>\n",
       "      <td>F</td>\n",
       "      <td>JAMSHEDPUR</td>\n",
       "      <td>17819.05</td>\n",
       "      <td>2/8/16</td>\n",
       "      <td>143207</td>\n",
       "      <td>25.00</td>\n",
       "    </tr>\n",
       "    <tr>\n",
       "      <th>1</th>\n",
       "      <td>T2</td>\n",
       "      <td>C2142763</td>\n",
       "      <td>4/4/57</td>\n",
       "      <td>M</td>\n",
       "      <td>JHAJJAR</td>\n",
       "      <td>2270.69</td>\n",
       "      <td>2/8/16</td>\n",
       "      <td>141858</td>\n",
       "      <td>27999.00</td>\n",
       "    </tr>\n",
       "    <tr>\n",
       "      <th>2</th>\n",
       "      <td>T3</td>\n",
       "      <td>C4417068</td>\n",
       "      <td>26/11/96</td>\n",
       "      <td>F</td>\n",
       "      <td>MUMBAI</td>\n",
       "      <td>17874.44</td>\n",
       "      <td>2/8/16</td>\n",
       "      <td>142712</td>\n",
       "      <td>459.00</td>\n",
       "    </tr>\n",
       "    <tr>\n",
       "      <th>3</th>\n",
       "      <td>T4</td>\n",
       "      <td>C5342380</td>\n",
       "      <td>14/9/73</td>\n",
       "      <td>F</td>\n",
       "      <td>MUMBAI</td>\n",
       "      <td>866503.21</td>\n",
       "      <td>2/8/16</td>\n",
       "      <td>142714</td>\n",
       "      <td>2060.00</td>\n",
       "    </tr>\n",
       "    <tr>\n",
       "      <th>4</th>\n",
       "      <td>T5</td>\n",
       "      <td>C9031234</td>\n",
       "      <td>24/3/88</td>\n",
       "      <td>F</td>\n",
       "      <td>NAVI MUMBAI</td>\n",
       "      <td>6714.43</td>\n",
       "      <td>2/8/16</td>\n",
       "      <td>181156</td>\n",
       "      <td>1762.50</td>\n",
       "    </tr>\n",
       "  </tbody>\n",
       "</table>\n",
       "</div>"
      ],
      "text/plain": [
       "  TransactionID CustomerID CustomerDOB CustGender CustLocation  \\\n",
       "0            T1   C5841053     10/1/94          F   JAMSHEDPUR   \n",
       "1            T2   C2142763      4/4/57          M      JHAJJAR   \n",
       "2            T3   C4417068    26/11/96          F       MUMBAI   \n",
       "3            T4   C5342380     14/9/73          F       MUMBAI   \n",
       "4            T5   C9031234     24/3/88          F  NAVI MUMBAI   \n",
       "\n",
       "   CustAccountBalance TransactionDate  TransactionTime  \\\n",
       "0            17819.05          2/8/16           143207   \n",
       "1             2270.69          2/8/16           141858   \n",
       "2            17874.44          2/8/16           142712   \n",
       "3           866503.21          2/8/16           142714   \n",
       "4             6714.43          2/8/16           181156   \n",
       "\n",
       "   TransactionAmount (INR)  \n",
       "0                    25.00  \n",
       "1                 27999.00  \n",
       "2                   459.00  \n",
       "3                  2060.00  \n",
       "4                  1762.50  "
      ]
     },
     "execution_count": 12,
     "metadata": {},
     "output_type": "execute_result"
    }
   ],
   "source": [
    "# Import the data\n",
    "data = pd.read_csv(\"bank_transactions.csv\")\n",
    "data.head()"
   ]
  },
  {
   "cell_type": "code",
   "execution_count": 13,
   "id": "60ec2d9c-d6a2-431e-9afc-34bb43ba7b9d",
   "metadata": {},
   "outputs": [
    {
     "name": "stdout",
     "output_type": "stream",
     "text": [
      "There are  1048567  transactions/rows and  9  columns in our dataset.\n"
     ]
    },
    {
     "data": {
      "text/plain": [
       "TransactionID              1048567\n",
       "CustomerID                 1048567\n",
       "CustomerDOB                1045170\n",
       "CustGender                 1047467\n",
       "CustLocation               1048416\n",
       "CustAccountBalance         1046198\n",
       "TransactionDate            1048567\n",
       "TransactionTime            1048567\n",
       "TransactionAmount (INR)    1048567\n",
       "dtype: int64"
      ]
     },
     "execution_count": 13,
     "metadata": {},
     "output_type": "execute_result"
    }
   ],
   "source": [
    "print('There are ', len(data), ' transactions/rows and ', data.shape[1], ' columns in our dataset.')\n",
    "\n",
    "data.count()"
   ]
  },
  {
   "cell_type": "markdown",
   "id": "83af7c20-27ec-406d-9793-dd9e9737ed64",
   "metadata": {},
   "source": [
    "##### We see that there are 1,048,567 transactions (rows) but some columns have lower counts. This indicates that there are null (empty) values in those columns.\n",
    "\n",
    "##### Check for the missing values."
   ]
  },
  {
   "cell_type": "code",
   "execution_count": 17,
   "id": "df1dc0de-a66a-48e9-92a3-cf6dae540311",
   "metadata": {},
   "outputs": [
    {
     "data": {
      "text/plain": [
       "TransactionID                 0\n",
       "CustomerID                    0\n",
       "CustomerDOB                3397\n",
       "CustGender                 1100\n",
       "CustLocation                151\n",
       "CustAccountBalance         2369\n",
       "TransactionDate               0\n",
       "TransactionTime               0\n",
       "TransactionAmount (INR)       0\n",
       "dtype: int64"
      ]
     },
     "execution_count": 17,
     "metadata": {},
     "output_type": "execute_result"
    }
   ],
   "source": [
    "data.isna().sum()"
   ]
  },
  {
   "cell_type": "markdown",
   "id": "42b15cb1-60b8-43ae-828f-7e0e2eb65705",
   "metadata": {},
   "source": [
    "##### Check for duplicates: The customer might be duplicated given one can make more than 1 transaction."
   ]
  },
  {
   "cell_type": "code",
   "execution_count": 20,
   "id": "ea46b787-8d1f-40b5-a541-1e8fccdae7a9",
   "metadata": {},
   "outputs": [
    {
     "data": {
      "text/plain": [
       "0"
      ]
     },
     "execution_count": 20,
     "metadata": {},
     "output_type": "execute_result"
    }
   ],
   "source": [
    "data.duplicated(subset = 'TransactionID').sum()"
   ]
  },
  {
   "cell_type": "markdown",
   "id": "a797ab95-7edc-4a29-8b9b-e74c9737f6bc",
   "metadata": {},
   "source": [
    "##### There are no duplicates in the TransactionID column."
   ]
  },
  {
   "cell_type": "markdown",
   "id": "b316a3c0-bb7b-4825-8bf6-6112bda30550",
   "metadata": {},
   "source": [
    "##### Drop those subsets with null values for these will not be counted when we group them by Gender, Age, Location, and Account Balance."
   ]
  },
  {
   "cell_type": "code",
   "execution_count": 24,
   "id": "b09d03b4-7a81-49a3-aa10-a3c55221aae6",
   "metadata": {},
   "outputs": [
    {
     "data": {
      "text/plain": [
       "TransactionID              0\n",
       "CustomerID                 0\n",
       "CustomerDOB                0\n",
       "CustGender                 0\n",
       "CustLocation               0\n",
       "CustAccountBalance         0\n",
       "TransactionDate            0\n",
       "TransactionTime            0\n",
       "TransactionAmount (INR)    0\n",
       "dtype: int64"
      ]
     },
     "execution_count": 24,
     "metadata": {},
     "output_type": "execute_result"
    }
   ],
   "source": [
    "data = data.dropna()\n",
    "data.isna().sum()"
   ]
  },
  {
   "cell_type": "markdown",
   "id": "187d4ebf-0d4b-41af-b895-d19f93b23915",
   "metadata": {},
   "source": [
    "##### Drop unused field/s."
   ]
  },
  {
   "cell_type": "code",
   "execution_count": 27,
   "id": "2940db8a-d713-4e4d-82b1-6bc790a1e5b5",
   "metadata": {},
   "outputs": [],
   "source": [
    "data.drop('TransactionTime', axis = 1, inplace = True)"
   ]
  },
  {
   "cell_type": "code",
   "execution_count": 29,
   "id": "c5ba30c1-057f-492c-a452-4e24197347d2",
   "metadata": {},
   "outputs": [
    {
     "name": "stdout",
     "output_type": "stream",
     "text": [
      "<class 'pandas.core.frame.DataFrame'>\n",
      "Index: 1041614 entries, 0 to 1048566\n",
      "Data columns (total 8 columns):\n",
      " #   Column                   Non-Null Count    Dtype  \n",
      "---  ------                   --------------    -----  \n",
      " 0   TransactionID            1041614 non-null  object \n",
      " 1   CustomerID               1041614 non-null  object \n",
      " 2   CustomerDOB              1041614 non-null  object \n",
      " 3   CustGender               1041614 non-null  object \n",
      " 4   CustLocation             1041614 non-null  object \n",
      " 5   CustAccountBalance       1041614 non-null  float64\n",
      " 6   TransactionDate          1041614 non-null  object \n",
      " 7   TransactionAmount (INR)  1041614 non-null  float64\n",
      "dtypes: float64(2), object(6)\n",
      "memory usage: 71.5+ MB\n"
     ]
    }
   ],
   "source": [
    "data.info()"
   ]
  },
  {
   "cell_type": "markdown",
   "id": "86fad78e-e027-49c1-b607-b46f5e203adc",
   "metadata": {},
   "source": [
    "##### Next, we check CustAccountBalance and TransactionAmount (INR) for outliers."
   ]
  },
  {
   "cell_type": "code",
   "execution_count": 32,
   "id": "62e753af-d771-43e7-8155-a40d1717be07",
   "metadata": {},
   "outputs": [
    {
     "data": {
      "text/html": [
       "<div>\n",
       "<style scoped>\n",
       "    .dataframe tbody tr th:only-of-type {\n",
       "        vertical-align: middle;\n",
       "    }\n",
       "\n",
       "    .dataframe tbody tr th {\n",
       "        vertical-align: top;\n",
       "    }\n",
       "\n",
       "    .dataframe thead th {\n",
       "        text-align: right;\n",
       "    }\n",
       "</style>\n",
       "<table border=\"1\" class=\"dataframe\">\n",
       "  <thead>\n",
       "    <tr style=\"text-align: right;\">\n",
       "      <th></th>\n",
       "      <th>count</th>\n",
       "      <th>mean</th>\n",
       "      <th>std</th>\n",
       "      <th>min</th>\n",
       "      <th>25%</th>\n",
       "      <th>50%</th>\n",
       "      <th>75%</th>\n",
       "      <th>max</th>\n",
       "    </tr>\n",
       "  </thead>\n",
       "  <tbody>\n",
       "    <tr>\n",
       "      <th>CustAccountBalance</th>\n",
       "      <td>1041614.00</td>\n",
       "      <td>114998.61</td>\n",
       "      <td>846760.94</td>\n",
       "      <td>0.00</td>\n",
       "      <td>4728.14</td>\n",
       "      <td>16768.52</td>\n",
       "      <td>57428.85</td>\n",
       "      <td>115035495.10</td>\n",
       "    </tr>\n",
       "    <tr>\n",
       "      <th>TransactionAmount (INR)</th>\n",
       "      <td>1041614.00</td>\n",
       "      <td>1566.10</td>\n",
       "      <td>6561.46</td>\n",
       "      <td>0.00</td>\n",
       "      <td>160.00</td>\n",
       "      <td>457.50</td>\n",
       "      <td>1200.00</td>\n",
       "      <td>1560034.99</td>\n",
       "    </tr>\n",
       "  </tbody>\n",
       "</table>\n",
       "</div>"
      ],
      "text/plain": [
       "                             count      mean       std  min     25%      50%  \\\n",
       "CustAccountBalance      1041614.00 114998.61 846760.94 0.00 4728.14 16768.52   \n",
       "TransactionAmount (INR) 1041614.00   1566.10   6561.46 0.00  160.00   457.50   \n",
       "\n",
       "                             75%          max  \n",
       "CustAccountBalance      57428.85 115035495.10  \n",
       "TransactionAmount (INR)  1200.00   1560034.99  "
      ]
     },
     "execution_count": 32,
     "metadata": {},
     "output_type": "execute_result"
    }
   ],
   "source": [
    "data[['CustAccountBalance', 'TransactionAmount (INR)']].describe().T"
   ]
  },
  {
   "cell_type": "markdown",
   "id": "c8a69f65-74ae-47ed-8ba2-3fd34f145421",
   "metadata": {},
   "source": [
    "##### Using the describe function, we see some descriptive statistics for our variables. Notice that there are also large max CustAccountBalance and TransactionAmount (INR) compared to their 75th percentiles."
   ]
  },
  {
   "cell_type": "markdown",
   "id": "29d5493a-d22c-46db-8b99-f527d7238f39",
   "metadata": {},
   "source": [
    "##### Check the maximum CustAccountBalance"
   ]
  },
  {
   "cell_type": "code",
   "execution_count": 36,
   "id": "643e1cbc-9393-4993-ac6a-e124016c2f42",
   "metadata": {},
   "outputs": [
    {
     "data": {
      "text/html": [
       "<div>\n",
       "<style scoped>\n",
       "    .dataframe tbody tr th:only-of-type {\n",
       "        vertical-align: middle;\n",
       "    }\n",
       "\n",
       "    .dataframe tbody tr th {\n",
       "        vertical-align: top;\n",
       "    }\n",
       "\n",
       "    .dataframe thead th {\n",
       "        text-align: right;\n",
       "    }\n",
       "</style>\n",
       "<table border=\"1\" class=\"dataframe\">\n",
       "  <thead>\n",
       "    <tr style=\"text-align: right;\">\n",
       "      <th></th>\n",
       "      <th>TransactionID</th>\n",
       "      <th>CustomerID</th>\n",
       "      <th>CustomerDOB</th>\n",
       "      <th>CustGender</th>\n",
       "      <th>CustLocation</th>\n",
       "      <th>CustAccountBalance</th>\n",
       "      <th>TransactionDate</th>\n",
       "      <th>TransactionAmount (INR)</th>\n",
       "    </tr>\n",
       "  </thead>\n",
       "  <tbody>\n",
       "    <tr>\n",
       "      <th>40982</th>\n",
       "      <td>T40983</td>\n",
       "      <td>C2916865</td>\n",
       "      <td>3/8/67</td>\n",
       "      <td>M</td>\n",
       "      <td>SHILLONG</td>\n",
       "      <td>115035495.10</td>\n",
       "      <td>27/9/16</td>\n",
       "      <td>6959.00</td>\n",
       "    </tr>\n",
       "    <tr>\n",
       "      <th>656264</th>\n",
       "      <td>T656265</td>\n",
       "      <td>C3316830</td>\n",
       "      <td>3/8/67</td>\n",
       "      <td>M</td>\n",
       "      <td>SHILLONG</td>\n",
       "      <td>115035495.10</td>\n",
       "      <td>28/8/16</td>\n",
       "      <td>28019.32</td>\n",
       "    </tr>\n",
       "    <tr>\n",
       "      <th>789085</th>\n",
       "      <td>T789086</td>\n",
       "      <td>C6416825</td>\n",
       "      <td>3/8/67</td>\n",
       "      <td>M</td>\n",
       "      <td>SHILLONG</td>\n",
       "      <td>115035495.10</td>\n",
       "      <td>5/9/16</td>\n",
       "      <td>5864.00</td>\n",
       "    </tr>\n",
       "    <tr>\n",
       "      <th>826721</th>\n",
       "      <td>T826722</td>\n",
       "      <td>C2216823</td>\n",
       "      <td>3/8/67</td>\n",
       "      <td>M</td>\n",
       "      <td>SHILLONG</td>\n",
       "      <td>115035495.10</td>\n",
       "      <td>4/9/16</td>\n",
       "      <td>4699.00</td>\n",
       "    </tr>\n",
       "    <tr>\n",
       "      <th>835641</th>\n",
       "      <td>T835642</td>\n",
       "      <td>C2916887</td>\n",
       "      <td>3/8/67</td>\n",
       "      <td>M</td>\n",
       "      <td>SHILLONG</td>\n",
       "      <td>115035495.10</td>\n",
       "      <td>4/9/16</td>\n",
       "      <td>600.00</td>\n",
       "    </tr>\n",
       "    <tr>\n",
       "      <th>876392</th>\n",
       "      <td>T876393</td>\n",
       "      <td>C8116818</td>\n",
       "      <td>3/8/67</td>\n",
       "      <td>M</td>\n",
       "      <td>SHILLONG</td>\n",
       "      <td>115035495.10</td>\n",
       "      <td>8/9/16</td>\n",
       "      <td>3149.00</td>\n",
       "    </tr>\n",
       "    <tr>\n",
       "      <th>879623</th>\n",
       "      <td>T879624</td>\n",
       "      <td>C4316889</td>\n",
       "      <td>3/8/67</td>\n",
       "      <td>M</td>\n",
       "      <td>SHILLONG</td>\n",
       "      <td>115035495.10</td>\n",
       "      <td>8/9/16</td>\n",
       "      <td>4364.00</td>\n",
       "    </tr>\n",
       "    <tr>\n",
       "      <th>1001213</th>\n",
       "      <td>T1001214</td>\n",
       "      <td>C5916881</td>\n",
       "      <td>3/8/67</td>\n",
       "      <td>M</td>\n",
       "      <td>SHILLONG</td>\n",
       "      <td>115035495.10</td>\n",
       "      <td>14/9/16</td>\n",
       "      <td>1599.00</td>\n",
       "    </tr>\n",
       "    <tr>\n",
       "      <th>1002072</th>\n",
       "      <td>T1002073</td>\n",
       "      <td>C5116828</td>\n",
       "      <td>3/8/67</td>\n",
       "      <td>M</td>\n",
       "      <td>SHILLONG</td>\n",
       "      <td>115035495.10</td>\n",
       "      <td>14/9/16</td>\n",
       "      <td>5060.00</td>\n",
       "    </tr>\n",
       "    <tr>\n",
       "      <th>1002847</th>\n",
       "      <td>T1002848</td>\n",
       "      <td>C7716886</td>\n",
       "      <td>3/8/67</td>\n",
       "      <td>M</td>\n",
       "      <td>SHILLONG</td>\n",
       "      <td>115035495.10</td>\n",
       "      <td>14/9/16</td>\n",
       "      <td>3604.00</td>\n",
       "    </tr>\n",
       "  </tbody>\n",
       "</table>\n",
       "</div>"
      ],
      "text/plain": [
       "        TransactionID CustomerID CustomerDOB CustGender CustLocation  \\\n",
       "40982          T40983   C2916865      3/8/67          M     SHILLONG   \n",
       "656264        T656265   C3316830      3/8/67          M     SHILLONG   \n",
       "789085        T789086   C6416825      3/8/67          M     SHILLONG   \n",
       "826721        T826722   C2216823      3/8/67          M     SHILLONG   \n",
       "835641        T835642   C2916887      3/8/67          M     SHILLONG   \n",
       "876392        T876393   C8116818      3/8/67          M     SHILLONG   \n",
       "879623        T879624   C4316889      3/8/67          M     SHILLONG   \n",
       "1001213      T1001214   C5916881      3/8/67          M     SHILLONG   \n",
       "1002072      T1002073   C5116828      3/8/67          M     SHILLONG   \n",
       "1002847      T1002848   C7716886      3/8/67          M     SHILLONG   \n",
       "\n",
       "         CustAccountBalance TransactionDate  TransactionAmount (INR)  \n",
       "40982          115035495.10         27/9/16                  6959.00  \n",
       "656264         115035495.10         28/8/16                 28019.32  \n",
       "789085         115035495.10          5/9/16                  5864.00  \n",
       "826721         115035495.10          4/9/16                  4699.00  \n",
       "835641         115035495.10          4/9/16                   600.00  \n",
       "876392         115035495.10          8/9/16                  3149.00  \n",
       "879623         115035495.10          8/9/16                  4364.00  \n",
       "1001213        115035495.10         14/9/16                  1599.00  \n",
       "1002072        115035495.10         14/9/16                  5060.00  \n",
       "1002847        115035495.10         14/9/16                  3604.00  "
      ]
     },
     "execution_count": 36,
     "metadata": {},
     "output_type": "execute_result"
    }
   ],
   "source": [
    "data[data['CustAccountBalance'] == data ['CustAccountBalance'].max()]"
   ]
  },
  {
   "cell_type": "markdown",
   "id": "e049f410-d7ec-48ba-9633-46039cddc4ac",
   "metadata": {},
   "source": [
    "##### Check the maximum TransactionAmount (INR)"
   ]
  },
  {
   "cell_type": "code",
   "execution_count": 39,
   "id": "3ba08330-9288-4b1b-a694-78e3994a3ecb",
   "metadata": {},
   "outputs": [
    {
     "data": {
      "text/html": [
       "<div>\n",
       "<style scoped>\n",
       "    .dataframe tbody tr th:only-of-type {\n",
       "        vertical-align: middle;\n",
       "    }\n",
       "\n",
       "    .dataframe tbody tr th {\n",
       "        vertical-align: top;\n",
       "    }\n",
       "\n",
       "    .dataframe thead th {\n",
       "        text-align: right;\n",
       "    }\n",
       "</style>\n",
       "<table border=\"1\" class=\"dataframe\">\n",
       "  <thead>\n",
       "    <tr style=\"text-align: right;\">\n",
       "      <th></th>\n",
       "      <th>TransactionID</th>\n",
       "      <th>CustomerID</th>\n",
       "      <th>CustomerDOB</th>\n",
       "      <th>CustGender</th>\n",
       "      <th>CustLocation</th>\n",
       "      <th>CustAccountBalance</th>\n",
       "      <th>TransactionDate</th>\n",
       "      <th>TransactionAmount (INR)</th>\n",
       "    </tr>\n",
       "  </thead>\n",
       "  <tbody>\n",
       "    <tr>\n",
       "      <th>399117</th>\n",
       "      <td>T399118</td>\n",
       "      <td>C7319271</td>\n",
       "      <td>25/5/76</td>\n",
       "      <td>M</td>\n",
       "      <td>GURGAON</td>\n",
       "      <td>42487.89</td>\n",
       "      <td>18/8/16</td>\n",
       "      <td>1560034.99</td>\n",
       "    </tr>\n",
       "  </tbody>\n",
       "</table>\n",
       "</div>"
      ],
      "text/plain": [
       "       TransactionID CustomerID CustomerDOB CustGender CustLocation  \\\n",
       "399117       T399118   C7319271     25/5/76          M      GURGAON   \n",
       "\n",
       "        CustAccountBalance TransactionDate  TransactionAmount (INR)  \n",
       "399117            42487.89         18/8/16               1560034.99  "
      ]
     },
     "execution_count": 39,
     "metadata": {},
     "output_type": "execute_result"
    }
   ],
   "source": [
    "data[data['TransactionAmount (INR)'] == data['TransactionAmount (INR)'].max()]"
   ]
  },
  {
   "cell_type": "markdown",
   "id": "03efb918-e4df-4689-b80b-1ebbf8092a61",
   "metadata": {},
   "source": [
    "##### Transform TransactionDate and CustomerDOB to date time format using pd.to_datetime() function."
   ]
  },
  {
   "cell_type": "code",
   "execution_count": 42,
   "id": "bfa114b1-ff78-4d44-9aaa-3da15f541c9a",
   "metadata": {},
   "outputs": [],
   "source": [
    "data['TransactionDate'] = pd.to_datetime(data['TransactionDate'])\n",
    "data['CustomerDOB'] = pd.to_datetime(data['CustomerDOB'])"
   ]
  },
  {
   "cell_type": "markdown",
   "id": "68ebc26f-bf04-4f15-9939-9a4d07c7c045",
   "metadata": {},
   "source": [
    "##### Check for the distribution of categorical fields."
   ]
  },
  {
   "cell_type": "code",
   "execution_count": 44,
   "id": "6089ebf9-b521-43d4-85b7-da330cde4c72",
   "metadata": {},
   "outputs": [
    {
     "data": {
      "text/html": [
       "<div>\n",
       "<style scoped>\n",
       "    .dataframe tbody tr th:only-of-type {\n",
       "        vertical-align: middle;\n",
       "    }\n",
       "\n",
       "    .dataframe tbody tr th {\n",
       "        vertical-align: top;\n",
       "    }\n",
       "\n",
       "    .dataframe thead th {\n",
       "        text-align: right;\n",
       "    }\n",
       "</style>\n",
       "<table border=\"1\" class=\"dataframe\">\n",
       "  <thead>\n",
       "    <tr style=\"text-align: right;\">\n",
       "      <th></th>\n",
       "      <th>CustomerID</th>\n",
       "      <th>CustGender</th>\n",
       "      <th>CustLocation</th>\n",
       "    </tr>\n",
       "  </thead>\n",
       "  <tbody>\n",
       "    <tr>\n",
       "      <th>count</th>\n",
       "      <td>1041614</td>\n",
       "      <td>1041614</td>\n",
       "      <td>1041614</td>\n",
       "    </tr>\n",
       "    <tr>\n",
       "      <th>unique</th>\n",
       "      <td>879358</td>\n",
       "      <td>3</td>\n",
       "      <td>9275</td>\n",
       "    </tr>\n",
       "    <tr>\n",
       "      <th>top</th>\n",
       "      <td>C5533885</td>\n",
       "      <td>M</td>\n",
       "      <td>MUMBAI</td>\n",
       "    </tr>\n",
       "    <tr>\n",
       "      <th>freq</th>\n",
       "      <td>6</td>\n",
       "      <td>760978</td>\n",
       "      <td>101997</td>\n",
       "    </tr>\n",
       "  </tbody>\n",
       "</table>\n",
       "</div>"
      ],
      "text/plain": [
       "       CustomerID CustGender CustLocation\n",
       "count     1041614    1041614      1041614\n",
       "unique     879358          3         9275\n",
       "top      C5533885          M       MUMBAI\n",
       "freq            6     760978       101997"
      ]
     },
     "execution_count": 44,
     "metadata": {},
     "output_type": "execute_result"
    }
   ],
   "source": [
    "data[['CustomerID', 'CustGender', 'CustLocation']].describe()"
   ]
  },
  {
   "cell_type": "markdown",
   "id": "1b31f277-28fd-463c-9551-9a0fba3f27b0",
   "metadata": {},
   "source": [
    "##### Check for the distribution of numerical fields."
   ]
  },
  {
   "cell_type": "code",
   "execution_count": 48,
   "id": "e6482aad-45d4-45c7-9d1f-977ba4e2fec5",
   "metadata": {},
   "outputs": [
    {
     "data": {
      "text/html": [
       "<div>\n",
       "<style scoped>\n",
       "    .dataframe tbody tr th:only-of-type {\n",
       "        vertical-align: middle;\n",
       "    }\n",
       "\n",
       "    .dataframe tbody tr th {\n",
       "        vertical-align: top;\n",
       "    }\n",
       "\n",
       "    .dataframe thead th {\n",
       "        text-align: right;\n",
       "    }\n",
       "</style>\n",
       "<table border=\"1\" class=\"dataframe\">\n",
       "  <thead>\n",
       "    <tr style=\"text-align: right;\">\n",
       "      <th></th>\n",
       "      <th>CustAccountBalance</th>\n",
       "      <th>TransactionAmount (INR)</th>\n",
       "    </tr>\n",
       "  </thead>\n",
       "  <tbody>\n",
       "    <tr>\n",
       "      <th>count</th>\n",
       "      <td>1041614.00</td>\n",
       "      <td>1041614.00</td>\n",
       "    </tr>\n",
       "    <tr>\n",
       "      <th>mean</th>\n",
       "      <td>114998.61</td>\n",
       "      <td>1566.10</td>\n",
       "    </tr>\n",
       "    <tr>\n",
       "      <th>std</th>\n",
       "      <td>846760.94</td>\n",
       "      <td>6561.46</td>\n",
       "    </tr>\n",
       "    <tr>\n",
       "      <th>min</th>\n",
       "      <td>0.00</td>\n",
       "      <td>0.00</td>\n",
       "    </tr>\n",
       "    <tr>\n",
       "      <th>25%</th>\n",
       "      <td>4728.14</td>\n",
       "      <td>160.00</td>\n",
       "    </tr>\n",
       "    <tr>\n",
       "      <th>50%</th>\n",
       "      <td>16768.52</td>\n",
       "      <td>457.50</td>\n",
       "    </tr>\n",
       "    <tr>\n",
       "      <th>75%</th>\n",
       "      <td>57428.85</td>\n",
       "      <td>1200.00</td>\n",
       "    </tr>\n",
       "    <tr>\n",
       "      <th>max</th>\n",
       "      <td>115035495.10</td>\n",
       "      <td>1560034.99</td>\n",
       "    </tr>\n",
       "  </tbody>\n",
       "</table>\n",
       "</div>"
      ],
      "text/plain": [
       "       CustAccountBalance  TransactionAmount (INR)\n",
       "count          1041614.00               1041614.00\n",
       "mean            114998.61                  1566.10\n",
       "std             846760.94                  6561.46\n",
       "min                  0.00                     0.00\n",
       "25%               4728.14                   160.00\n",
       "50%              16768.52                   457.50\n",
       "75%              57428.85                  1200.00\n",
       "max          115035495.10               1560034.99"
      ]
     },
     "execution_count": 48,
     "metadata": {},
     "output_type": "execute_result"
    }
   ],
   "source": [
    "data[['CustAccountBalance', 'TransactionAmount (INR)']].describe()"
   ]
  },
  {
   "cell_type": "markdown",
   "id": "f315bb50-e5f9-4507-8d79-74dd833f9001",
   "metadata": {},
   "source": [
    "#### Calculate Customer Age\n",
    "\n",
    "##### Here will use the year in the data (2016) as base to get the customer's age"
   ]
  },
  {
   "cell_type": "code",
   "execution_count": 51,
   "id": "63935f46-7fe4-41df-8901-d09918276e32",
   "metadata": {},
   "outputs": [],
   "source": [
    "data['Age'] = data['TransactionDate'].dt.year - data['CustomerDOB'].dt.year"
   ]
  },
  {
   "cell_type": "markdown",
   "id": "008b45bf-79e0-4df7-9912-50915e58e514",
   "metadata": {},
   "source": [
    "##### Check for the distribution of Age."
   ]
  },
  {
   "cell_type": "code",
   "execution_count": 54,
   "id": "7a52d859-2e27-4490-83d3-ce8bcf448b62",
   "metadata": {},
   "outputs": [
    {
     "data": {
      "text/plain": [
       "count   1041614.00\n",
       "mean         30.96\n",
       "std          50.36\n",
       "min         -58.00\n",
       "25%          24.00\n",
       "50%          28.00\n",
       "75%          33.00\n",
       "max         216.00\n",
       "Name: Age, dtype: float64"
      ]
     },
     "execution_count": 54,
     "metadata": {},
     "output_type": "execute_result"
    }
   ],
   "source": [
    "data['Age'].describe()"
   ]
  },
  {
   "cell_type": "markdown",
   "id": "f1ebe155-b25c-4068-93f6-967d7e027c45",
   "metadata": {},
   "source": [
    "##### We can see that there are inconsistencies in the Age column. There is a min of -56 and max of 216.\n",
    "\n",
    "##### We can transform all the ages below 12 and above 100 percentile into median age."
   ]
  },
  {
   "cell_type": "code",
   "execution_count": 57,
   "id": "d0c95a15-ba59-4f56-a846-23c805811e1d",
   "metadata": {},
   "outputs": [],
   "source": [
    "data.loc[(data['Age'] < 12) | (data['Age'] >= 100),'Age'] = data['Age'].median()"
   ]
  },
  {
   "cell_type": "markdown",
   "id": "6caf49a6-2059-4e85-8fe4-8489da096675",
   "metadata": {},
   "source": [
    "##### Check the contents of CustGender column."
   ]
  },
  {
   "cell_type": "code",
   "execution_count": 60,
   "id": "4c0cd3e1-43ff-4d2a-a6c2-7f88c05768b3",
   "metadata": {},
   "outputs": [
    {
     "data": {
      "text/plain": [
       "CustGender\n",
       "M    760978\n",
       "F    280635\n",
       "T         1\n",
       "Name: count, dtype: int64"
      ]
     },
     "execution_count": 60,
     "metadata": {},
     "output_type": "execute_result"
    }
   ],
   "source": [
    "data['CustGender'].value_counts()"
   ]
  },
  {
   "cell_type": "markdown",
   "id": "e53f7dbc-2976-4ce6-93d4-04031db6f740",
   "metadata": {},
   "source": [
    "##### We can see that the CustGender column has one with T value. We can remove this by using the .replace() function.\n",
    "\n",
    "##### Transform the values of CustGender from 'M' to 'Male', 'F' to 'Female' and 'T' to 'Male'."
   ]
  },
  {
   "cell_type": "code",
   "execution_count": 63,
   "id": "2b00e8ed-17d2-4c76-b896-1923ac091f0e",
   "metadata": {},
   "outputs": [],
   "source": [
    "data['CustGender'] = data['CustGender'].replace({'M':'Male', 'F':'Female', 'T':'Male'})"
   ]
  },
  {
   "cell_type": "code",
   "execution_count": 65,
   "id": "accfbf22-3782-40ed-ab99-06e41848edcd",
   "metadata": {},
   "outputs": [
    {
     "data": {
      "text/html": [
       "<div>\n",
       "<style scoped>\n",
       "    .dataframe tbody tr th:only-of-type {\n",
       "        vertical-align: middle;\n",
       "    }\n",
       "\n",
       "    .dataframe tbody tr th {\n",
       "        vertical-align: top;\n",
       "    }\n",
       "\n",
       "    .dataframe thead th {\n",
       "        text-align: right;\n",
       "    }\n",
       "</style>\n",
       "<table border=\"1\" class=\"dataframe\">\n",
       "  <thead>\n",
       "    <tr style=\"text-align: right;\">\n",
       "      <th></th>\n",
       "      <th>TransactionID</th>\n",
       "      <th>CustomerID</th>\n",
       "      <th>CustomerDOB</th>\n",
       "      <th>CustGender</th>\n",
       "      <th>CustLocation</th>\n",
       "      <th>CustAccountBalance</th>\n",
       "      <th>TransactionDate</th>\n",
       "      <th>TransactionAmount (INR)</th>\n",
       "      <th>Age</th>\n",
       "    </tr>\n",
       "  </thead>\n",
       "  <tbody>\n",
       "    <tr>\n",
       "      <th>600471</th>\n",
       "      <td>T600472</td>\n",
       "      <td>C3031689</td>\n",
       "      <td>1990-07-10</td>\n",
       "      <td>Female</td>\n",
       "      <td>BANGALORE</td>\n",
       "      <td>919.48</td>\n",
       "      <td>2016-08-26</td>\n",
       "      <td>38.00</td>\n",
       "      <td>26</td>\n",
       "    </tr>\n",
       "    <tr>\n",
       "      <th>919558</th>\n",
       "      <td>T919559</td>\n",
       "      <td>C1637756</td>\n",
       "      <td>1996-04-02</td>\n",
       "      <td>Male</td>\n",
       "      <td>RAIPUR</td>\n",
       "      <td>52630.24</td>\n",
       "      <td>2016-12-09</td>\n",
       "      <td>70.00</td>\n",
       "      <td>20</td>\n",
       "    </tr>\n",
       "    <tr>\n",
       "      <th>301254</th>\n",
       "      <td>T301255</td>\n",
       "      <td>C3026462</td>\n",
       "      <td>1991-01-15</td>\n",
       "      <td>Male</td>\n",
       "      <td>THANE</td>\n",
       "      <td>1658.85</td>\n",
       "      <td>2016-10-08</td>\n",
       "      <td>199.00</td>\n",
       "      <td>25</td>\n",
       "    </tr>\n",
       "    <tr>\n",
       "      <th>597667</th>\n",
       "      <td>T597668</td>\n",
       "      <td>C5219177</td>\n",
       "      <td>2068-03-13</td>\n",
       "      <td>Male</td>\n",
       "      <td>KOCHI</td>\n",
       "      <td>12819.16</td>\n",
       "      <td>2016-08-25</td>\n",
       "      <td>1438.49</td>\n",
       "      <td>28</td>\n",
       "    </tr>\n",
       "    <tr>\n",
       "      <th>425507</th>\n",
       "      <td>T425508</td>\n",
       "      <td>C8930445</td>\n",
       "      <td>1983-03-04</td>\n",
       "      <td>Male</td>\n",
       "      <td>GUWAHATI</td>\n",
       "      <td>58011.52</td>\n",
       "      <td>2016-08-17</td>\n",
       "      <td>351.00</td>\n",
       "      <td>33</td>\n",
       "    </tr>\n",
       "    <tr>\n",
       "      <th>151578</th>\n",
       "      <td>T151579</td>\n",
       "      <td>C7735224</td>\n",
       "      <td>1991-07-24</td>\n",
       "      <td>Male</td>\n",
       "      <td>NEW DELHI</td>\n",
       "      <td>14989.08</td>\n",
       "      <td>2016-04-08</td>\n",
       "      <td>1186.49</td>\n",
       "      <td>25</td>\n",
       "    </tr>\n",
       "    <tr>\n",
       "      <th>1028537</th>\n",
       "      <td>T1028538</td>\n",
       "      <td>C4424836</td>\n",
       "      <td>2068-03-18</td>\n",
       "      <td>Male</td>\n",
       "      <td>DURGAPUR</td>\n",
       "      <td>544479.45</td>\n",
       "      <td>2016-09-13</td>\n",
       "      <td>3601.00</td>\n",
       "      <td>28</td>\n",
       "    </tr>\n",
       "    <tr>\n",
       "      <th>528399</th>\n",
       "      <td>T528400</td>\n",
       "      <td>C5927041</td>\n",
       "      <td>1989-11-24</td>\n",
       "      <td>Male</td>\n",
       "      <td>NOIDA</td>\n",
       "      <td>26028.50</td>\n",
       "      <td>2016-08-24</td>\n",
       "      <td>976.00</td>\n",
       "      <td>27</td>\n",
       "    </tr>\n",
       "    <tr>\n",
       "      <th>324546</th>\n",
       "      <td>T324547</td>\n",
       "      <td>C4110665</td>\n",
       "      <td>1979-07-26</td>\n",
       "      <td>Male</td>\n",
       "      <td>DELHI</td>\n",
       "      <td>9101.30</td>\n",
       "      <td>2016-08-15</td>\n",
       "      <td>500.00</td>\n",
       "      <td>37</td>\n",
       "    </tr>\n",
       "    <tr>\n",
       "      <th>2578</th>\n",
       "      <td>T2579</td>\n",
       "      <td>C3788844</td>\n",
       "      <td>1992-03-27</td>\n",
       "      <td>Male</td>\n",
       "      <td>DELHI</td>\n",
       "      <td>9686.25</td>\n",
       "      <td>2016-10-21</td>\n",
       "      <td>10999.00</td>\n",
       "      <td>24</td>\n",
       "    </tr>\n",
       "  </tbody>\n",
       "</table>\n",
       "</div>"
      ],
      "text/plain": [
       "        TransactionID CustomerID CustomerDOB CustGender CustLocation  \\\n",
       "600471        T600472   C3031689  1990-07-10     Female    BANGALORE   \n",
       "919558        T919559   C1637756  1996-04-02       Male       RAIPUR   \n",
       "301254        T301255   C3026462  1991-01-15       Male        THANE   \n",
       "597667        T597668   C5219177  2068-03-13       Male        KOCHI   \n",
       "425507        T425508   C8930445  1983-03-04       Male     GUWAHATI   \n",
       "151578        T151579   C7735224  1991-07-24       Male    NEW DELHI   \n",
       "1028537      T1028538   C4424836  2068-03-18       Male     DURGAPUR   \n",
       "528399        T528400   C5927041  1989-11-24       Male        NOIDA   \n",
       "324546        T324547   C4110665  1979-07-26       Male        DELHI   \n",
       "2578            T2579   C3788844  1992-03-27       Male        DELHI   \n",
       "\n",
       "         CustAccountBalance TransactionDate  TransactionAmount (INR)  Age  \n",
       "600471               919.48      2016-08-26                    38.00   26  \n",
       "919558             52630.24      2016-12-09                    70.00   20  \n",
       "301254              1658.85      2016-10-08                   199.00   25  \n",
       "597667             12819.16      2016-08-25                  1438.49   28  \n",
       "425507             58011.52      2016-08-17                   351.00   33  \n",
       "151578             14989.08      2016-04-08                  1186.49   25  \n",
       "1028537           544479.45      2016-09-13                  3601.00   28  \n",
       "528399             26028.50      2016-08-24                   976.00   27  \n",
       "324546              9101.30      2016-08-15                   500.00   37  \n",
       "2578                9686.25      2016-10-21                 10999.00   24  "
      ]
     },
     "execution_count": 65,
     "metadata": {},
     "output_type": "execute_result"
    }
   ],
   "source": [
    "data.sample(10)"
   ]
  },
  {
   "cell_type": "markdown",
   "id": "6af391a8-c48c-4705-ba77-69a73a855e69",
   "metadata": {},
   "source": [
    "#### 2. Exploratory Analysis¶"
   ]
  },
  {
   "cell_type": "markdown",
   "id": "c70772fa-e70b-4bd0-88e3-9bf856277f63",
   "metadata": {},
   "source": [
    "##### We can extend our previous exploratory analysis by looking at the following:\n",
    "\n",
    "#### 1.Distribution of Transactions per Customer (Frequency)\n",
    "#### 2.Distribution of Revenue per Customer (Monetary)\n",
    "#### 3.Total Monthly Revenue\n",
    "##### Since we are now interested in the monetary aspect of the data, we add the related metrics in our analysis."
   ]
  },
  {
   "cell_type": "code",
   "execution_count": 69,
   "id": "08625dd8-5ea4-40e3-9f20-8431484458c3",
   "metadata": {},
   "outputs": [
    {
     "data": {
      "text/html": [
       "<div>\n",
       "<style scoped>\n",
       "    .dataframe tbody tr th:only-of-type {\n",
       "        vertical-align: middle;\n",
       "    }\n",
       "\n",
       "    .dataframe tbody tr th {\n",
       "        vertical-align: top;\n",
       "    }\n",
       "\n",
       "    .dataframe thead th {\n",
       "        text-align: right;\n",
       "    }\n",
       "</style>\n",
       "<table border=\"1\" class=\"dataframe\">\n",
       "  <thead>\n",
       "    <tr style=\"text-align: right;\">\n",
       "      <th></th>\n",
       "      <th>TransactionID</th>\n",
       "      <th>CustomerID</th>\n",
       "      <th>CustomerDOB</th>\n",
       "      <th>CustGender</th>\n",
       "      <th>CustLocation</th>\n",
       "      <th>CustAccountBalance</th>\n",
       "      <th>TransactionDate</th>\n",
       "      <th>TransactionAmount (INR)</th>\n",
       "      <th>Age</th>\n",
       "    </tr>\n",
       "  </thead>\n",
       "  <tbody>\n",
       "    <tr>\n",
       "      <th>0</th>\n",
       "      <td>T1</td>\n",
       "      <td>C5841053</td>\n",
       "      <td>1994-10-01</td>\n",
       "      <td>Female</td>\n",
       "      <td>JAMSHEDPUR</td>\n",
       "      <td>17819.05</td>\n",
       "      <td>2016-02-08</td>\n",
       "      <td>25.00</td>\n",
       "      <td>22</td>\n",
       "    </tr>\n",
       "    <tr>\n",
       "      <th>1</th>\n",
       "      <td>T2</td>\n",
       "      <td>C2142763</td>\n",
       "      <td>2057-04-04</td>\n",
       "      <td>Male</td>\n",
       "      <td>JHAJJAR</td>\n",
       "      <td>2270.69</td>\n",
       "      <td>2016-02-08</td>\n",
       "      <td>27999.00</td>\n",
       "      <td>28</td>\n",
       "    </tr>\n",
       "    <tr>\n",
       "      <th>2</th>\n",
       "      <td>T3</td>\n",
       "      <td>C4417068</td>\n",
       "      <td>1996-11-26</td>\n",
       "      <td>Female</td>\n",
       "      <td>MUMBAI</td>\n",
       "      <td>17874.44</td>\n",
       "      <td>2016-02-08</td>\n",
       "      <td>459.00</td>\n",
       "      <td>20</td>\n",
       "    </tr>\n",
       "    <tr>\n",
       "      <th>3</th>\n",
       "      <td>T4</td>\n",
       "      <td>C5342380</td>\n",
       "      <td>2073-09-14</td>\n",
       "      <td>Female</td>\n",
       "      <td>MUMBAI</td>\n",
       "      <td>866503.21</td>\n",
       "      <td>2016-02-08</td>\n",
       "      <td>2060.00</td>\n",
       "      <td>28</td>\n",
       "    </tr>\n",
       "    <tr>\n",
       "      <th>4</th>\n",
       "      <td>T5</td>\n",
       "      <td>C9031234</td>\n",
       "      <td>1988-03-24</td>\n",
       "      <td>Female</td>\n",
       "      <td>NAVI MUMBAI</td>\n",
       "      <td>6714.43</td>\n",
       "      <td>2016-02-08</td>\n",
       "      <td>1762.50</td>\n",
       "      <td>28</td>\n",
       "    </tr>\n",
       "  </tbody>\n",
       "</table>\n",
       "</div>"
      ],
      "text/plain": [
       "  TransactionID CustomerID CustomerDOB CustGender CustLocation  \\\n",
       "0            T1   C5841053  1994-10-01     Female   JAMSHEDPUR   \n",
       "1            T2   C2142763  2057-04-04       Male      JHAJJAR   \n",
       "2            T3   C4417068  1996-11-26     Female       MUMBAI   \n",
       "3            T4   C5342380  2073-09-14     Female       MUMBAI   \n",
       "4            T5   C9031234  1988-03-24     Female  NAVI MUMBAI   \n",
       "\n",
       "   CustAccountBalance TransactionDate  TransactionAmount (INR)  Age  \n",
       "0            17819.05      2016-02-08                    25.00   22  \n",
       "1             2270.69      2016-02-08                 27999.00   28  \n",
       "2            17874.44      2016-02-08                   459.00   20  \n",
       "3           866503.21      2016-02-08                  2060.00   28  \n",
       "4             6714.43      2016-02-08                  1762.50   28  "
      ]
     },
     "execution_count": 69,
     "metadata": {},
     "output_type": "execute_result"
    }
   ],
   "source": [
    "data.head()"
   ]
  },
  {
   "cell_type": "markdown",
   "id": "d4df4a49-3d78-418b-8bbe-4db2992ce9ab",
   "metadata": {},
   "source": [
    "#### Determine the total count of customers."
   ]
  },
  {
   "cell_type": "code",
   "execution_count": 72,
   "id": "e4d14bfb-e7dc-42b1-9581-38641a4e207d",
   "metadata": {},
   "outputs": [
    {
     "data": {
      "text/plain": [
       "879358"
      ]
     },
     "execution_count": 72,
     "metadata": {},
     "output_type": "execute_result"
    }
   ],
   "source": [
    "data['CustomerID'].nunique()"
   ]
  },
  {
   "cell_type": "markdown",
   "id": "11eb4288-3a42-40df-9ac5-94e8e8c1f3a2",
   "metadata": {},
   "source": [
    "#### 2.1 Gender"
   ]
  },
  {
   "cell_type": "code",
   "execution_count": 75,
   "id": "5347f10c-a105-4803-ba6c-1cbad52d1a62",
   "metadata": {},
   "outputs": [
    {
     "data": {
      "text/plain": [
       "CustGender\n",
       "Female    280635\n",
       "Male      760979\n",
       "Name: TransactionID, dtype: int64"
      ]
     },
     "execution_count": 75,
     "metadata": {},
     "output_type": "execute_result"
    }
   ],
   "source": [
    "data_customers = data.groupby('CustGender')['TransactionID'].nunique()\n",
    "\n",
    "data_customers"
   ]
  },
  {
   "cell_type": "code",
   "execution_count": 77,
   "id": "cbc142cf-ef3a-40bc-a518-0e16da1f0fc3",
   "metadata": {},
   "outputs": [
    {
     "data": {
      "image/png": "[encoded data removed]",
      "text/plain": [
       "<Figure size 1500x800 with 2 Axes>"
      ]
     },
     "metadata": {},
     "output_type": "display_data"
    }
   ],
   "source": [
    "# Define a function that will add the currency symbol to the x-axis major tick labels.\n",
    "def currency(x, pos):\n",
    "    \"\"\"The two arguments are the value and tick position\"\"\"\n",
    "    if x >= 1e6:\n",
    "        s = '₹{:1.1f}M'.format(x*1e-6)\n",
    "    elif x >= 1e3:\n",
    "        s = '₹{:1.0f}K'.format(x*1e-3)\n",
    "    else:\n",
    "        s = '₹{:1.0f}'.format(x)\n",
    "    return s\n",
    "\n",
    "fig, axs = plt.subplots(ncols = 2,nrows = 1, figsize = (15, 8))\n",
    "\n",
    "axs[0].pie(data['CustGender'].value_counts(), autopct= '%1.f%%', labels = ['Male', 'Female'], startangle = 90, colors = ['dodgerblue', 'tomato'])\n",
    "axs[0].set_title(\"Customer Gender Frequency\", size = 20)\n",
    "\n",
    "axs[1] = sns.distplot(data[(data['CustGender'] == 'Male') & (data['TransactionAmount (INR)'] < np.percentile(data['TransactionAmount (INR)'], 90))]['TransactionAmount (INR)'],\n",
    "                     label = True, kde = False, color = 'dodgerblue')\n",
    "axs[1] = sns.distplot(data[(data['CustGender'] == 'Female') & (data['TransactionAmount (INR)'] < np.percentile(data['TransactionAmount (INR)'],90))]['TransactionAmount (INR)'],\n",
    "                     label = 'Female', kde = False, color = 'tomato')\n",
    "axs[1].set_title(\"Transaction Amount by Customer Gender\", size = 20)\n",
    "\n",
    "import matplotlib.ticker as ticker\n",
    "axs[1].xaxis.set_major_formatter(currency)\n",
    "axs[1].yaxis.set_major_formatter(ticker.StrMethodFormatter('{x:,.0f}'))\n",
    "\n",
    "plt.show()\n"
   ]
  },
  {
   "cell_type": "markdown",
   "id": "a8b8f488-923e-4e92-9d05-afb8e8494a20",
   "metadata": {},
   "source": [
    "#### 2.2 Frequency¶"
   ]
  },
  {
   "cell_type": "markdown",
   "id": "4bc14923-f9b9-4a66-a49f-2eb3002cf4d3",
   "metadata": {},
   "source": [
    "##### Select the top 10 cities with most number of transactions."
   ]
  },
  {
   "cell_type": "code",
   "execution_count": 81,
   "id": "f2ff66f4-4b18-43b4-af42-505e4e666079",
   "metadata": {},
   "outputs": [
    {
     "data": {
      "image/png": "[encoded data removed]",
      "text/plain": [
       "<Figure size 1500x500 with 1 Axes>"
      ]
     },
     "metadata": {},
     "output_type": "display_data"
    }
   ],
   "source": [
    "plt.style.use('seaborn-v0_8-whitegrid')\n",
    "fig, ax = plt.subplots(figsize=(15, 5))\n",
    "\n",
    "sns.countplot(y='CustLocation', data=data,\n",
    "              order=data['CustLocation'].value_counts()[:10].index, ax=ax)\n",
    "\n",
    "ax.set_title(\"Top 10 Locations with Most Transactions\", fontsize='20')\n",
    "ax.set_xlabel(None)\n",
    "ax.set_ylabel(None)\n",
    "ax.set_xticklabels([])\n",
    "ax.xaxis.grid(False)\n",
    "\n",
    "# Remove figure border\n",
    "ax.spines['top'].set_visible(False)\n",
    "ax.spines['bottom'].set_visible(False)\n",
    "ax.spines['left'].set_visible(False)\n",
    "ax.spines['right'].set_visible(False)\n",
    "\n",
    "# Add data labels\n",
    "for p in ax.patches:\n",
    "    ax.annotate(format(int(p.get_width()), ','),\n",
    "                (p.get_width(), p.get_y() + p.get_height() / 2),\n",
    "                xytext=(5, 0), textcoords='offset points', ha='left', va='center')\n",
    "\n",
    "plt.show()"
   ]
  },
  {
   "cell_type": "markdown",
   "id": "9b099706-8bd4-4bd2-81c7-20a1a48763b6",
   "metadata": {},
   "source": [
    "##### As seen from the plot above, Mumbai, New Delhi, Bangalore, Gurgaon, and Delhi are the top 5 cities with the most number of transactions. This could be due to the that the 3 cities have more population, better economic conditions, and a higher salary range."
   ]
  },
  {
   "cell_type": "markdown",
   "id": "a0e7f5e0-bea5-4c67-a952-30f4d06a564a",
   "metadata": {},
   "source": [
    "#### 2.3 Age¶"
   ]
  },
  {
   "cell_type": "code",
   "execution_count": 84,
   "id": "55aae45b-4477-4238-9709-6f992b88b02a",
   "metadata": {},
   "outputs": [
    {
     "data": {
      "image/png": "[encoded data removed]",
      "text/plain": [
       "<Figure size 1000x500 with 1 Axes>"
      ]
     },
     "metadata": {},
     "output_type": "display_data"
    }
   ],
   "source": [
    "bins = [0, 20, 30, 40, 50, 60, 100]\n",
    "labels = ['0 - 20', '20 - 30', '30 - 40', '40 - 50', '50 - 60', '60+']\n",
    "data['AgeBin'] = pd.cut(x = data['Age'], bins = bins, labels = labels, right = True)\n",
    "\n",
    "plt.style.use('fivethirtyeight')\n",
    "fig, ax = plt.subplots(figsize = (10, 5))\n",
    "sns.countplot(data, y = 'AgeBin', order = labels)\n",
    "\n",
    "ax.set_xlabel(None)\n",
    "ax.set_ylabel(None)\n",
    "ax.set_title('Count of Customers by Age')\n",
    "ax.set_xticklabels([])\n",
    "ax.xaxis.grid(False)\n",
    "\n",
    "# Add data labels at the end of the bars\n",
    "for p in ax.patches:\n",
    "    width = p.get_width()\n",
    "    label = format(int(width), ',')  # Convert width to integer before formatting\n",
    "    x = width + 10000 if width < 700000 else width - 10000  # Adjusted x-coordinate for label position\n",
    "    ax.annotate(label,\n",
    "                xy=(x, p.get_y() + p.get_height() / 2),\n",
    "                xytext=(5, 0),\n",
    "                textcoords=\"offset points\",\n",
    "                ha='left' if width < 700000 else 'right',  # Adjusted horizontal alignment\n",
    "                va='center')\n",
    "\n",
    "plt.show()"
   ]
  },
  {
   "cell_type": "markdown",
   "id": "5d4c4144-9fc3-4060-8b81-01f25a6106e6",
   "metadata": {},
   "source": [
    "#### 3. Customer Segmentation"
   ]
  },
  {
   "cell_type": "markdown",
   "id": "e2159f89-1557-4af9-a9f4-c55aa6eccf10",
   "metadata": {},
   "source": [
    "#### 3.1 RFM Segmentation¶\n",
    "\n",
    "##### RFM model is commonly used in marketing to segment customers based on their shopping behaviors, then treat each segment with targeted strategies. The three metrics used in the segmentation are:\n",
    "\n",
    "##### Recency: How many days since the customer's last transaction date? The lower the value, the more loyal the customers are to the company.\n",
    "##### Frequency: How many times did the customer make transactions during the period? The higher the value, the more active the customers are to our products and services.\n",
    "##### Monetary: The total amount of transactions or money spent by the customer during the period. This is the most important metric in the model. The higher the value, the more monetary value the customer could bring to the company.\n",
    "##### Steps of RFM:\n",
    "\n",
    "##### Step 1: Calculate the raw value of each metric.\n",
    "\n",
    "##### Step 2: Assign a mark to each raw value based on their distributions.\n",
    "\n",
    "##### Step 3: Based on the average mark of each metric, decide the class of each customer record (0 or 1, 1 means qualified, 0 means unqualified).\n",
    "\n",
    "##### Step 4: Segment the customers based on their assigned class (0 or 1).\n",
    "\n",
    "##### NOTE: The time range selected should be decided by the business team based in a real setting, here just using the whole timeframe in the data. Here we do not take the balance into consideration, given the real transaction would create more value for the business.\n",
    "\n",
    "##### Step 1: Calculate the raw value of each metrics:"
   ]
  },
  {
   "cell_type": "code",
   "execution_count": 89,
   "id": "27fe9256-f4f3-44f1-9853-b3af9fffa5d9",
   "metadata": {},
   "outputs": [
    {
     "data": {
      "text/html": [
       "<div>\n",
       "<style scoped>\n",
       "    .dataframe tbody tr th:only-of-type {\n",
       "        vertical-align: middle;\n",
       "    }\n",
       "\n",
       "    .dataframe tbody tr th {\n",
       "        vertical-align: top;\n",
       "    }\n",
       "\n",
       "    .dataframe thead th {\n",
       "        text-align: right;\n",
       "    }\n",
       "</style>\n",
       "<table border=\"1\" class=\"dataframe\">\n",
       "  <thead>\n",
       "    <tr style=\"text-align: right;\">\n",
       "      <th></th>\n",
       "      <th>CustomerID</th>\n",
       "      <th>Last_Trans_Date</th>\n",
       "      <th>M</th>\n",
       "      <th>F</th>\n",
       "    </tr>\n",
       "  </thead>\n",
       "  <tbody>\n",
       "    <tr>\n",
       "      <th>0</th>\n",
       "      <td>C1010011</td>\n",
       "      <td>2016-09-26</td>\n",
       "      <td>5106.00</td>\n",
       "      <td>2</td>\n",
       "    </tr>\n",
       "    <tr>\n",
       "      <th>1</th>\n",
       "      <td>C1010012</td>\n",
       "      <td>2016-08-14</td>\n",
       "      <td>1499.00</td>\n",
       "      <td>1</td>\n",
       "    </tr>\n",
       "    <tr>\n",
       "      <th>2</th>\n",
       "      <td>C1010014</td>\n",
       "      <td>2016-07-08</td>\n",
       "      <td>1455.00</td>\n",
       "      <td>2</td>\n",
       "    </tr>\n",
       "    <tr>\n",
       "      <th>3</th>\n",
       "      <td>C1010018</td>\n",
       "      <td>2016-09-15</td>\n",
       "      <td>30.00</td>\n",
       "      <td>1</td>\n",
       "    </tr>\n",
       "    <tr>\n",
       "      <th>4</th>\n",
       "      <td>C1010024</td>\n",
       "      <td>2016-08-18</td>\n",
       "      <td>5000.00</td>\n",
       "      <td>1</td>\n",
       "    </tr>\n",
       "  </tbody>\n",
       "</table>\n",
       "</div>"
      ],
      "text/plain": [
       "  CustomerID Last_Trans_Date       M  F\n",
       "0   C1010011      2016-09-26 5106.00  2\n",
       "1   C1010012      2016-08-14 1499.00  1\n",
       "2   C1010014      2016-07-08 1455.00  2\n",
       "3   C1010018      2016-09-15   30.00  1\n",
       "4   C1010024      2016-08-18 5000.00  1"
      ]
     },
     "execution_count": 89,
     "metadata": {},
     "output_type": "execute_result"
    }
   ],
   "source": [
    "data_RFM = data.copy()\n",
    "data_RFM = data_RFM.groupby(['CustomerID']).agg(Last_Trans_Date = ('TransactionDate', 'max'),\n",
    "                                                M = ('TransactionAmount (INR)', 'sum'),\n",
    "                                                F = ('TransactionID', 'count')).reset_index()\n",
    "\n",
    "data_RFM.head()"
   ]
  },
  {
   "cell_type": "markdown",
   "id": "5516b5ad-f5fb-402e-bc1b-d599419bbf61",
   "metadata": {},
   "source": [
    "##### Recency Calculation¶\n",
    "\n",
    "##### Use the last transaction date in the data as base, then calculate the difference between each customer's last transaction date to the base"
   ]
  },
  {
   "cell_type": "code",
   "execution_count": 91,
   "id": "a33b55ec-472a-4904-a857-561b81666df0",
   "metadata": {},
   "outputs": [
    {
     "data": {
      "text/html": [
       "<div>\n",
       "<style scoped>\n",
       "    .dataframe tbody tr th:only-of-type {\n",
       "        vertical-align: middle;\n",
       "    }\n",
       "\n",
       "    .dataframe tbody tr th {\n",
       "        vertical-align: top;\n",
       "    }\n",
       "\n",
       "    .dataframe thead th {\n",
       "        text-align: right;\n",
       "    }\n",
       "</style>\n",
       "<table border=\"1\" class=\"dataframe\">\n",
       "  <thead>\n",
       "    <tr style=\"text-align: right;\">\n",
       "      <th></th>\n",
       "      <th>CustomerID</th>\n",
       "      <th>R</th>\n",
       "      <th>F</th>\n",
       "      <th>M</th>\n",
       "    </tr>\n",
       "  </thead>\n",
       "  <tbody>\n",
       "    <tr>\n",
       "      <th>0</th>\n",
       "      <td>C1010011</td>\n",
       "      <td>74</td>\n",
       "      <td>2</td>\n",
       "      <td>5106.00</td>\n",
       "    </tr>\n",
       "    <tr>\n",
       "      <th>1</th>\n",
       "      <td>C1010012</td>\n",
       "      <td>117</td>\n",
       "      <td>1</td>\n",
       "      <td>1499.00</td>\n",
       "    </tr>\n",
       "    <tr>\n",
       "      <th>2</th>\n",
       "      <td>C1010014</td>\n",
       "      <td>154</td>\n",
       "      <td>2</td>\n",
       "      <td>1455.00</td>\n",
       "    </tr>\n",
       "    <tr>\n",
       "      <th>3</th>\n",
       "      <td>C1010018</td>\n",
       "      <td>85</td>\n",
       "      <td>1</td>\n",
       "      <td>30.00</td>\n",
       "    </tr>\n",
       "    <tr>\n",
       "      <th>4</th>\n",
       "      <td>C1010024</td>\n",
       "      <td>113</td>\n",
       "      <td>1</td>\n",
       "      <td>5000.00</td>\n",
       "    </tr>\n",
       "  </tbody>\n",
       "</table>\n",
       "</div>"
      ],
      "text/plain": [
       "  CustomerID    R  F       M\n",
       "0   C1010011   74  2 5106.00\n",
       "1   C1010012  117  1 1499.00\n",
       "2   C1010014  154  2 1455.00\n",
       "3   C1010018   85  1   30.00\n",
       "4   C1010024  113  1 5000.00"
      ]
     },
     "execution_count": 91,
     "metadata": {},
     "output_type": "execute_result"
    }
   ],
   "source": [
    "data_RFM['Latest_Trans_Date'] = data_RFM['Last_Trans_Date'].max()\n",
    "data_RFM['R'] = data_RFM['Latest_Trans_Date'] - data_RFM['Last_Trans_Date']\n",
    "data_RFM['R'] = (data_RFM['R'] / np.timedelta64(1, 'D')).astype(int)\n",
    "\n",
    "data_RFM = data_RFM[['CustomerID', 'R', 'F', 'M']]\n",
    "data_RFM.head()"
   ]
  },
  {
   "cell_type": "markdown",
   "id": "e0297ba4-3ecf-438b-8bc6-afc74888adae",
   "metadata": {},
   "source": [
    "##### Step 2: Assign mark to each raw value based on their distributions¶\n",
    "\n",
    "##### The marking rule or method is arbitary and should be decided by both business and domain experts.\n",
    "\n",
    "##### The scoring is based on the five bins of the distribution of each metric."
   ]
  },
  {
   "cell_type": "code",
   "execution_count": 95,
   "id": "ebdd8b1e-9b68-46b0-b216-10d564981a6d",
   "metadata": {},
   "outputs": [
    {
     "data": {
      "text/html": [
       "<div>\n",
       "<style scoped>\n",
       "    .dataframe tbody tr th:only-of-type {\n",
       "        vertical-align: middle;\n",
       "    }\n",
       "\n",
       "    .dataframe tbody tr th {\n",
       "        vertical-align: top;\n",
       "    }\n",
       "\n",
       "    .dataframe thead th {\n",
       "        text-align: right;\n",
       "    }\n",
       "</style>\n",
       "<table border=\"1\" class=\"dataframe\">\n",
       "  <thead>\n",
       "    <tr style=\"text-align: right;\">\n",
       "      <th></th>\n",
       "      <th>CustomerID</th>\n",
       "      <th>R</th>\n",
       "      <th>R_Score</th>\n",
       "      <th>F</th>\n",
       "      <th>F_Score</th>\n",
       "      <th>M</th>\n",
       "      <th>M_Score</th>\n",
       "    </tr>\n",
       "  </thead>\n",
       "  <tbody>\n",
       "    <tr>\n",
       "      <th>514213</th>\n",
       "      <td>C5725923</td>\n",
       "      <td>107</td>\n",
       "      <td>3</td>\n",
       "      <td>1</td>\n",
       "      <td>1</td>\n",
       "      <td>400.00</td>\n",
       "      <td>2</td>\n",
       "    </tr>\n",
       "    <tr>\n",
       "      <th>84803</th>\n",
       "      <td>C1742674</td>\n",
       "      <td>91</td>\n",
       "      <td>4</td>\n",
       "      <td>1</td>\n",
       "      <td>1</td>\n",
       "      <td>889.00</td>\n",
       "      <td>3</td>\n",
       "    </tr>\n",
       "    <tr>\n",
       "      <th>657289</th>\n",
       "      <td>C7033560</td>\n",
       "      <td>335</td>\n",
       "      <td>1</td>\n",
       "      <td>1</td>\n",
       "      <td>1</td>\n",
       "      <td>200.00</td>\n",
       "      <td>1</td>\n",
       "    </tr>\n",
       "    <tr>\n",
       "      <th>293558</th>\n",
       "      <td>C3712084</td>\n",
       "      <td>215</td>\n",
       "      <td>1</td>\n",
       "      <td>2</td>\n",
       "      <td>2</td>\n",
       "      <td>4350.00</td>\n",
       "      <td>5</td>\n",
       "    </tr>\n",
       "    <tr>\n",
       "      <th>313815</th>\n",
       "      <td>C3873168</td>\n",
       "      <td>86</td>\n",
       "      <td>4</td>\n",
       "      <td>2</td>\n",
       "      <td>2</td>\n",
       "      <td>530.91</td>\n",
       "      <td>3</td>\n",
       "    </tr>\n",
       "    <tr>\n",
       "      <th>242081</th>\n",
       "      <td>C3222332</td>\n",
       "      <td>74</td>\n",
       "      <td>4</td>\n",
       "      <td>2</td>\n",
       "      <td>2</td>\n",
       "      <td>797.95</td>\n",
       "      <td>3</td>\n",
       "    </tr>\n",
       "    <tr>\n",
       "      <th>610709</th>\n",
       "      <td>C6622250</td>\n",
       "      <td>215</td>\n",
       "      <td>1</td>\n",
       "      <td>1</td>\n",
       "      <td>1</td>\n",
       "      <td>1599.00</td>\n",
       "      <td>4</td>\n",
       "    </tr>\n",
       "    <tr>\n",
       "      <th>517302</th>\n",
       "      <td>C5737632</td>\n",
       "      <td>109</td>\n",
       "      <td>3</td>\n",
       "      <td>2</td>\n",
       "      <td>2</td>\n",
       "      <td>2440.00</td>\n",
       "      <td>5</td>\n",
       "    </tr>\n",
       "    <tr>\n",
       "      <th>451806</th>\n",
       "      <td>C5135345</td>\n",
       "      <td>114</td>\n",
       "      <td>3</td>\n",
       "      <td>1</td>\n",
       "      <td>1</td>\n",
       "      <td>30.00</td>\n",
       "      <td>1</td>\n",
       "    </tr>\n",
       "    <tr>\n",
       "      <th>118987</th>\n",
       "      <td>C2089040</td>\n",
       "      <td>78</td>\n",
       "      <td>4</td>\n",
       "      <td>1</td>\n",
       "      <td>1</td>\n",
       "      <td>10.00</td>\n",
       "      <td>1</td>\n",
       "    </tr>\n",
       "  </tbody>\n",
       "</table>\n",
       "</div>"
      ],
      "text/plain": [
       "       CustomerID    R  R_Score  F  F_Score       M  M_Score\n",
       "514213   C5725923  107        3  1        1  400.00        2\n",
       "84803    C1742674   91        4  1        1  889.00        3\n",
       "657289   C7033560  335        1  1        1  200.00        1\n",
       "293558   C3712084  215        1  2        2 4350.00        5\n",
       "313815   C3873168   86        4  2        2  530.91        3\n",
       "242081   C3222332   74        4  2        2  797.95        3\n",
       "610709   C6622250  215        1  1        1 1599.00        4\n",
       "517302   C5737632  109        3  2        2 2440.00        5\n",
       "451806   C5135345  114        3  1        1   30.00        1\n",
       "118987   C2089040   78        4  1        1   10.00        1"
      ]
     },
     "execution_count": 95,
     "metadata": {},
     "output_type": "execute_result"
    }
   ],
   "source": [
    "data_RFM['R_Score'] = np.select(\n",
    "    [data_RFM['R'] <= 50, data_RFM['R'] <= 100, data_RFM['R'] <= 120, data_RFM['R'] <= 150],\n",
    "    [5, 4, 3, 2],\n",
    "    default = 1\n",
    ")\n",
    "\n",
    "data_RFM['F_Score'] = np.select(\n",
    "    [data_RFM['F'] == 5, data_RFM['F'] == 4, data_RFM['F'] == 3, data_RFM['F'] == 2],\n",
    "    [5, 4, 3, 2],\n",
    "    default = 1\n",
    ")\n",
    "\n",
    "data_RFM['M_Score'] = np.select(\n",
    "    [data_RFM['M'] > 2000, data_RFM['M'] > 1000, data_RFM['M'] > 500, data_RFM['M'] > 300],\n",
    "    [5, 4, 3, 2],\n",
    "    default = 1\n",
    ")\n",
    "\n",
    "data_RFM = data_RFM[['CustomerID', 'R', 'R_Score', 'F', 'F_Score', 'M', 'M_Score']]\n",
    "data_RFM.sample(10)"
   ]
  },
  {
   "cell_type": "markdown",
   "id": "c8c3a6f8-892b-48c6-98a2-8d4f0beeeae0",
   "metadata": {},
   "source": [
    "##### The marking strategy is shown below:¶"
   ]
  },
  {
   "cell_type": "code",
   "execution_count": 98,
   "id": "45787fbb-a6a0-40fe-a643-ac9eecafd87e",
   "metadata": {},
   "outputs": [
    {
     "data": {
      "text/html": [
       "<div>\n",
       "<style scoped>\n",
       "    .dataframe tbody tr th:only-of-type {\n",
       "        vertical-align: middle;\n",
       "    }\n",
       "\n",
       "    .dataframe tbody tr th {\n",
       "        vertical-align: top;\n",
       "    }\n",
       "\n",
       "    .dataframe thead th {\n",
       "        text-align: right;\n",
       "    }\n",
       "</style>\n",
       "<table border=\"1\" class=\"dataframe\">\n",
       "  <thead>\n",
       "    <tr style=\"text-align: right;\">\n",
       "      <th></th>\n",
       "      <th>count</th>\n",
       "      <th>mean</th>\n",
       "      <th>std</th>\n",
       "      <th>min</th>\n",
       "      <th>25%</th>\n",
       "      <th>50%</th>\n",
       "      <th>75%</th>\n",
       "      <th>max</th>\n",
       "    </tr>\n",
       "  </thead>\n",
       "  <tbody>\n",
       "    <tr>\n",
       "      <th>R</th>\n",
       "      <td>879358.00</td>\n",
       "      <td>128.79</td>\n",
       "      <td>80.05</td>\n",
       "      <td>0.00</td>\n",
       "      <td>86.00</td>\n",
       "      <td>109.00</td>\n",
       "      <td>153.00</td>\n",
       "      <td>336.00</td>\n",
       "    </tr>\n",
       "    <tr>\n",
       "      <th>R_Score</th>\n",
       "      <td>879358.00</td>\n",
       "      <td>2.87</td>\n",
       "      <td>1.32</td>\n",
       "      <td>1.00</td>\n",
       "      <td>1.00</td>\n",
       "      <td>3.00</td>\n",
       "      <td>4.00</td>\n",
       "      <td>5.00</td>\n",
       "    </tr>\n",
       "    <tr>\n",
       "      <th>F</th>\n",
       "      <td>879358.00</td>\n",
       "      <td>1.18</td>\n",
       "      <td>0.45</td>\n",
       "      <td>1.00</td>\n",
       "      <td>1.00</td>\n",
       "      <td>1.00</td>\n",
       "      <td>1.00</td>\n",
       "      <td>6.00</td>\n",
       "    </tr>\n",
       "    <tr>\n",
       "      <th>F_Score</th>\n",
       "      <td>879358.00</td>\n",
       "      <td>1.18</td>\n",
       "      <td>0.45</td>\n",
       "      <td>1.00</td>\n",
       "      <td>1.00</td>\n",
       "      <td>1.00</td>\n",
       "      <td>1.00</td>\n",
       "      <td>5.00</td>\n",
       "    </tr>\n",
       "    <tr>\n",
       "      <th>M</th>\n",
       "      <td>879358.00</td>\n",
       "      <td>1855.07</td>\n",
       "      <td>7188.32</td>\n",
       "      <td>0.00</td>\n",
       "      <td>200.00</td>\n",
       "      <td>533.00</td>\n",
       "      <td>1500.00</td>\n",
       "      <td>1560034.99</td>\n",
       "    </tr>\n",
       "    <tr>\n",
       "      <th>M_Score</th>\n",
       "      <td>879358.00</td>\n",
       "      <td>2.68</td>\n",
       "      <td>1.54</td>\n",
       "      <td>1.00</td>\n",
       "      <td>1.00</td>\n",
       "      <td>3.00</td>\n",
       "      <td>4.00</td>\n",
       "      <td>5.00</td>\n",
       "    </tr>\n",
       "  </tbody>\n",
       "</table>\n",
       "</div>"
      ],
      "text/plain": [
       "            count    mean     std  min    25%    50%     75%        max\n",
       "R       879358.00  128.79   80.05 0.00  86.00 109.00  153.00     336.00\n",
       "R_Score 879358.00    2.87    1.32 1.00   1.00   3.00    4.00       5.00\n",
       "F       879358.00    1.18    0.45 1.00   1.00   1.00    1.00       6.00\n",
       "F_Score 879358.00    1.18    0.45 1.00   1.00   1.00    1.00       5.00\n",
       "M       879358.00 1855.07 7188.32 0.00 200.00 533.00 1500.00 1560034.99\n",
       "M_Score 879358.00    2.68    1.54 1.00   1.00   3.00    4.00       5.00"
      ]
     },
     "execution_count": 98,
     "metadata": {},
     "output_type": "execute_result"
    }
   ],
   "source": [
    "data_RFM.describe().T"
   ]
  },
  {
   "cell_type": "code",
   "execution_count": 100,
   "id": "d1d52cde-7cfe-4544-8477-33eefd0ed334",
   "metadata": {},
   "outputs": [
    {
     "data": {
      "image/png": "[encoded data removed]",
      "text/plain": [
       "<Figure size 640x480 with 1 Axes>"
      ]
     },
     "metadata": {},
     "output_type": "display_data"
    }
   ],
   "source": [
    "plt.style.use('seaborn-v0_8-whitegrid')\n",
    "fig, ax = plt.subplots()\n",
    "\n",
    "sns.histplot(data_RFM['R_Score'], ax = ax, label = 'R Score', color='blue', alpha = 0.5)\n",
    "sns.histplot(data_RFM['F_Score'], ax = ax, label = 'F Score', color='orange', alpha = 0.5)\n",
    "sns.histplot(data_RFM['M_Score'], ax = ax, label = 'M Score', color='green', alpha = 0.5)\n",
    "\n",
    "ax.legend()\n",
    "plt.xticks(range(1, 6))\n",
    "ax.yaxis.set_major_formatter(ticker.StrMethodFormatter('{x:,.0f}'))\n",
    "ax.set_ylabel(None)\n",
    "ax.set_xlabel(None)\n",
    "ax.set_title('RFM Scores Distribution')\n",
    "plt.show()"
   ]
  },
  {
   "cell_type": "markdown",
   "id": "bbd32f9b-83bc-4ced-ae27-e2f755c41f0a",
   "metadata": {},
   "source": [
    "##### From the statistics above, most of the scores of the Monetary, Recency and Frequency metrics are gathered at 1, this shows most customers are ordinary and small group of wealthy customers are highly affecting the whole distribution.\n",
    "\n",
    "##### Based on the average of each metric score, decide the class of each customer record.\n",
    "\n",
    "##### We will use the Mean as the decision base and assign all records higher or equal to the Mean to Class 1 and records lower than the Mean to Class 0.\n",
    "\n",
    "##### The base could be Mean as well, depending on the score distribution and business requirement.\n",
    "\n",
    "##### In this code, we calculate the means of the 'R_Score', 'F_Score', and 'M_Score' columns using the .mean() method. Then, we use vectorized comparisons (>=) to compare each element in the respective columns with the corresponding mean. The resulting boolean values are converted to integers using .astype(int) and then to strings using .astype(str). Finally, the desired columns are selected and stored in the data_RFM DataFrame.\n",
    "\n",
    "##### By leveraging vectorized operations, you can perform the calculations efficiently without the need for lambda functions or explicit loops, leading to improved performance.\n"
   ]
  },
  {
   "cell_type": "code",
   "execution_count": 102,
   "id": "3f209404-a163-4dbd-b22e-35ace21a355b",
   "metadata": {},
   "outputs": [
    {
     "data": {
      "text/html": [
       "<div>\n",
       "<style scoped>\n",
       "    .dataframe tbody tr th:only-of-type {\n",
       "        vertical-align: middle;\n",
       "    }\n",
       "\n",
       "    .dataframe tbody tr th {\n",
       "        vertical-align: top;\n",
       "    }\n",
       "\n",
       "    .dataframe thead th {\n",
       "        text-align: right;\n",
       "    }\n",
       "</style>\n",
       "<table border=\"1\" class=\"dataframe\">\n",
       "  <thead>\n",
       "    <tr style=\"text-align: right;\">\n",
       "      <th></th>\n",
       "      <th>CustomerID</th>\n",
       "      <th>R</th>\n",
       "      <th>F</th>\n",
       "      <th>M</th>\n",
       "    </tr>\n",
       "  </thead>\n",
       "  <tbody>\n",
       "    <tr>\n",
       "      <th>0</th>\n",
       "      <td>C1010011</td>\n",
       "      <td>1</td>\n",
       "      <td>1</td>\n",
       "      <td>1</td>\n",
       "    </tr>\n",
       "    <tr>\n",
       "      <th>1</th>\n",
       "      <td>C1010012</td>\n",
       "      <td>1</td>\n",
       "      <td>0</td>\n",
       "      <td>1</td>\n",
       "    </tr>\n",
       "    <tr>\n",
       "      <th>2</th>\n",
       "      <td>C1010014</td>\n",
       "      <td>0</td>\n",
       "      <td>1</td>\n",
       "      <td>1</td>\n",
       "    </tr>\n",
       "    <tr>\n",
       "      <th>3</th>\n",
       "      <td>C1010018</td>\n",
       "      <td>1</td>\n",
       "      <td>0</td>\n",
       "      <td>0</td>\n",
       "    </tr>\n",
       "    <tr>\n",
       "      <th>4</th>\n",
       "      <td>C1010024</td>\n",
       "      <td>1</td>\n",
       "      <td>0</td>\n",
       "      <td>1</td>\n",
       "    </tr>\n",
       "  </tbody>\n",
       "</table>\n",
       "</div>"
      ],
      "text/plain": [
       "  CustomerID  R  F  M\n",
       "0   C1010011  1  1  1\n",
       "1   C1010012  1  0  1\n",
       "2   C1010014  0  1  1\n",
       "3   C1010018  1  0  0\n",
       "4   C1010024  1  0  1"
      ]
     },
     "execution_count": 102,
     "metadata": {},
     "output_type": "execute_result"
    }
   ],
   "source": [
    "mean_R_score = data_RFM['R_Score'].mean()\n",
    "mean_F_score = data_RFM['F_Score'].mean()\n",
    "mean_M_score = data_RFM['M_Score'].mean()\n",
    "\n",
    "data_RFM['R'] = (data_RFM['R_Score'] >= mean_R_score).astype(int).astype(str)\n",
    "data_RFM['F'] = (data_RFM['F_Score'] >= mean_F_score).astype(int).astype(str)\n",
    "data_RFM['M'] = (data_RFM['M_Score'] >= mean_M_score).astype(int).astype(str)\n",
    "\n",
    "data_RFM = data_RFM[['CustomerID', 'R', 'F', 'M']]\n",
    "data_RFM.head()"
   ]
  },
  {
   "cell_type": "markdown",
   "id": "51da75ff-302d-4b5a-aa77-7490a7489b31",
   "metadata": {},
   "source": [
    "##### Segment the customers based on their classes¶\n",
    "\n",
    "##### Below is the criteria used for customer segmentation.\n",
    "\n",
    "##### Note: Criteria is arbitrary and will depend on the business' domain experts and/or managament"
   ]
  },
  {
   "cell_type": "code",
   "execution_count": 104,
   "id": "db3a290e-b195-4044-9547-274a8d99c1d0",
   "metadata": {},
   "outputs": [],
   "source": [
    "data_RFM['RFM'] = data_RFM['R'] + data_RFM['F'] + data_RFM['M']\n",
    "\n",
    "conditions = [\n",
    "    (data_RFM['RFM'] == '111'),\n",
    "    (data_RFM['RFM'] == '101'),\n",
    "    (data_RFM['RFM'] == '110'),\n",
    "    (data_RFM['RFM'] == '011'),\n",
    "    (data_RFM['RFM'] == '001'),\n",
    "    (data_RFM['RFM'] == '100'),\n",
    "    (data_RFM['RFM'] == '010'),\n",
    "    (data_RFM['RFM'] == '000')\n",
    "]\n",
    "\n",
    "values = [\n",
    "    'Most Valuable Customer',\n",
    "    'Important Developing Customer',\n",
    "    'Ordinary Customer',\n",
    "    'Important Maintaining Customer',\n",
    "    'Important Recalling Customer',\n",
    "    'Ordinary Developing Customer',\n",
    "    'Ordinary Maintaining Customer',\n",
    "    'Ordinary Recalling Customer'\n",
    "]\n",
    "\n",
    "data_RFM['Class'] = np.select(conditions, values, default = '')"
   ]
  },
  {
   "cell_type": "code",
   "execution_count": 106,
   "id": "3bd7b671-ae1c-4567-b973-6c241720ae96",
   "metadata": {},
   "outputs": [
    {
     "data": {
      "text/html": [
       "<div>\n",
       "<style scoped>\n",
       "    .dataframe tbody tr th:only-of-type {\n",
       "        vertical-align: middle;\n",
       "    }\n",
       "\n",
       "    .dataframe tbody tr th {\n",
       "        vertical-align: top;\n",
       "    }\n",
       "\n",
       "    .dataframe thead th {\n",
       "        text-align: right;\n",
       "    }\n",
       "</style>\n",
       "<table border=\"1\" class=\"dataframe\">\n",
       "  <thead>\n",
       "    <tr style=\"text-align: right;\">\n",
       "      <th></th>\n",
       "      <th>CustomerID</th>\n",
       "      <th>R</th>\n",
       "      <th>F</th>\n",
       "      <th>M</th>\n",
       "      <th>RFM</th>\n",
       "      <th>Class</th>\n",
       "    </tr>\n",
       "  </thead>\n",
       "  <tbody>\n",
       "    <tr>\n",
       "      <th>271755</th>\n",
       "      <td>C3511683</td>\n",
       "      <td>0</td>\n",
       "      <td>0</td>\n",
       "      <td>0</td>\n",
       "      <td>000</td>\n",
       "      <td>Ordinary Recalling Customer</td>\n",
       "    </tr>\n",
       "    <tr>\n",
       "      <th>652768</th>\n",
       "      <td>C7017080</td>\n",
       "      <td>0</td>\n",
       "      <td>0</td>\n",
       "      <td>0</td>\n",
       "      <td>000</td>\n",
       "      <td>Ordinary Recalling Customer</td>\n",
       "    </tr>\n",
       "    <tr>\n",
       "      <th>445016</th>\n",
       "      <td>C5110563</td>\n",
       "      <td>0</td>\n",
       "      <td>0</td>\n",
       "      <td>0</td>\n",
       "      <td>000</td>\n",
       "      <td>Ordinary Recalling Customer</td>\n",
       "    </tr>\n",
       "    <tr>\n",
       "      <th>587290</th>\n",
       "      <td>C6416039</td>\n",
       "      <td>1</td>\n",
       "      <td>0</td>\n",
       "      <td>1</td>\n",
       "      <td>101</td>\n",
       "      <td>Important Developing Customer</td>\n",
       "    </tr>\n",
       "    <tr>\n",
       "      <th>689962</th>\n",
       "      <td>C7333037</td>\n",
       "      <td>1</td>\n",
       "      <td>0</td>\n",
       "      <td>0</td>\n",
       "      <td>100</td>\n",
       "      <td>Ordinary Developing Customer</td>\n",
       "    </tr>\n",
       "  </tbody>\n",
       "</table>\n",
       "</div>"
      ],
      "text/plain": [
       "       CustomerID  R  F  M  RFM                          Class\n",
       "271755   C3511683  0  0  0  000    Ordinary Recalling Customer\n",
       "652768   C7017080  0  0  0  000    Ordinary Recalling Customer\n",
       "445016   C5110563  0  0  0  000    Ordinary Recalling Customer\n",
       "587290   C6416039  1  0  1  101  Important Developing Customer\n",
       "689962   C7333037  1  0  0  100   Ordinary Developing Customer"
      ]
     },
     "execution_count": 106,
     "metadata": {},
     "output_type": "execute_result"
    }
   ],
   "source": [
    "data_RFM.sample(5)"
   ]
  },
  {
   "cell_type": "markdown",
   "id": "e3474040-14d6-471c-b122-bc8ccc14d686",
   "metadata": {},
   "source": [
    "#### Visualize the classes distribution:"
   ]
  },
  {
   "cell_type": "code",
   "execution_count": 111,
   "id": "3fd1d613-4c76-4b40-ad21-f9d28ff5837a",
   "metadata": {},
   "outputs": [
    {
     "data": {
      "image/png": "[encoded data removed]",
      "text/plain": [
       "<Figure size 1200x500 with 1 Axes>"
      ]
     },
     "metadata": {},
     "output_type": "display_data"
    }
   ],
   "source": [
    "plt.figure(figsize=(12, 5))\n",
    "\n",
    "ax = sns.countplot(data=data_RFM, y='Class', order=data_RFM['Class'].value_counts().index)\n",
    "\n",
    "abs_values = data_RFM['Class'].value_counts(ascending=False)\n",
    "rel_values = data_RFM['Class'].value_counts(ascending=False, normalize=True).values * 100\n",
    "lbls = [f'{p[0]:,} ({p[1]:.0f}%)' for p in zip(abs_values, rel_values)]\n",
    "\n",
    "for i, p in enumerate(ax.patches):\n",
    "    width = p.get_width()\n",
    "    ax.text(width + 5, p.get_y() + p.get_height() / 2, lbls[i], va='center', size=12)\n",
    "\n",
    "plt.title('Class Distributions')\n",
    "plt.ylabel(None)\n",
    "plt.xlabel(None)\n",
    "plt.yticks(size=10)\n",
    "\n",
    "ax.set(xticks=[])\n",
    "\n",
    "plt.show()"
   ]
  },
  {
   "cell_type": "markdown",
   "id": "a1479ea7-0956-49d3-90e1-113afae96069",
   "metadata": {},
   "source": [
    "##### 2. Pareto Analysis\n",
    "##### Pareto analysis, also known as the 80/20 rule or the Pareto principle, is a technique used in decision-making and problem-solving to prioritize and focus efforts on the most significant factors or issues that have the greatest impact. It is named after Italian economist Vilfredo Pareto, who observed that approximately 80% of the wealth in Italy was owned by 20% of the population.\n",
    "\n",
    "##### Let us check if the valuable customers have made the most contribution to the transaction volume.\n",
    "\n",
    "##### Group by RFM class and sum up the transaction volume of each class."
   ]
  },
  {
   "cell_type": "code",
   "execution_count": 113,
   "id": "ff7c2358-f179-4bcc-8298-a571e96405df",
   "metadata": {},
   "outputs": [
    {
     "data": {
      "text/html": [
       "<div>\n",
       "<style scoped>\n",
       "    .dataframe tbody tr th:only-of-type {\n",
       "        vertical-align: middle;\n",
       "    }\n",
       "\n",
       "    .dataframe tbody tr th {\n",
       "        vertical-align: top;\n",
       "    }\n",
       "\n",
       "    .dataframe thead th {\n",
       "        text-align: right;\n",
       "    }\n",
       "</style>\n",
       "<table border=\"1\" class=\"dataframe\">\n",
       "  <thead>\n",
       "    <tr style=\"text-align: right;\">\n",
       "      <th></th>\n",
       "      <th>CustomerID</th>\n",
       "      <th>Transaction_Amt</th>\n",
       "    </tr>\n",
       "  </thead>\n",
       "  <tbody>\n",
       "    <tr>\n",
       "      <th>0</th>\n",
       "      <td>C1010011</td>\n",
       "      <td>5106.00</td>\n",
       "    </tr>\n",
       "    <tr>\n",
       "      <th>1</th>\n",
       "      <td>C1010012</td>\n",
       "      <td>1499.00</td>\n",
       "    </tr>\n",
       "    <tr>\n",
       "      <th>2</th>\n",
       "      <td>C1010014</td>\n",
       "      <td>1455.00</td>\n",
       "    </tr>\n",
       "    <tr>\n",
       "      <th>3</th>\n",
       "      <td>C1010018</td>\n",
       "      <td>30.00</td>\n",
       "    </tr>\n",
       "    <tr>\n",
       "      <th>4</th>\n",
       "      <td>C1010024</td>\n",
       "      <td>5000.00</td>\n",
       "    </tr>\n",
       "  </tbody>\n",
       "</table>\n",
       "</div>"
      ],
      "text/plain": [
       "  CustomerID  Transaction_Amt\n",
       "0   C1010011          5106.00\n",
       "1   C1010012          1499.00\n",
       "2   C1010014          1455.00\n",
       "3   C1010018            30.00\n",
       "4   C1010024          5000.00"
      ]
     },
     "execution_count": 113,
     "metadata": {},
     "output_type": "execute_result"
    }
   ],
   "source": [
    "from matplotlib.ticker import PercentFormatter\n",
    "\n",
    "pareto_df = data.groupby(['CustomerID']).agg(Transaction_Amt = ('TransactionAmount (INR)', 'sum')).reset_index()\n",
    "\n",
    "pareto_df.head()"
   ]
  },
  {
   "cell_type": "markdown",
   "id": "5bf500e1-5ba1-49f4-a8f1-b2e302795b08",
   "metadata": {},
   "source": [
    "##### Sort values in descending order"
   ]
  },
  {
   "cell_type": "code",
   "execution_count": 116,
   "id": "1435d0d9-8843-424e-b860-a5cc51f349ed",
   "metadata": {},
   "outputs": [],
   "source": [
    "pareto_df = pareto_df.merge(data_RFM[['CustomerID', 'Class']], on = 'CustomerID')\n",
    "pareto_df = pareto_df[['Class', 'Transaction_Amt']].groupby('Class').sum()\n",
    "pareto_df = pareto_df.sort_values(by = 'Transaction_Amt', ascending = False)"
   ]
  },
  {
   "cell_type": "markdown",
   "id": "cf4465dc-4fb5-443f-9157-12bcbe5e55a1",
   "metadata": {},
   "source": [
    "##### Add cumulative percentage column"
   ]
  },
  {
   "cell_type": "code",
   "execution_count": 120,
   "id": "2c522f18-edbf-4c42-8365-819828c7bfdd",
   "metadata": {},
   "outputs": [
    {
     "name": "stdout",
     "output_type": "stream",
     "text": [
      "                                Transaction_Amt  Trans_Percent  Cum_Percent\n",
      "Class                                                                      \n",
      "Important Developing Customer      700799737.26          42.96        42.96\n",
      "Most Valuable Customer             418328352.94          25.64        68.60\n",
      "Important Recalling Customer       373439033.58          22.89        91.50\n",
      "Ordinary Developing Customer        53788222.80           3.30        94.79\n",
      "Important Maintaining Customer      49147328.88           3.01        97.81\n",
      "Ordinary Recalling Customer         28210220.35           1.73        99.54\n",
      "Ordinary Customer                    6705884.14           0.41        99.95\n",
      "Ordinary Maintaining Customer         848821.77           0.05       100.00\n"
     ]
    }
   ],
   "source": [
    "pareto_df['Trans_Percent'] = round(pareto_df[\"Transaction_Amt\"] / pareto_df[\"Transaction_Amt\"].sum() * 100, 2)\n",
    "pareto_df[\"Cum_Percent\"] = round(pareto_df[\"Transaction_Amt\"].cumsum() / pareto_df[\"Transaction_Amt\"].sum() * 100, 2)\n",
    "print(pareto_df)"
   ]
  },
  {
   "cell_type": "markdown",
   "id": "915762ba-abca-47a7-a6d5-e2b291e20f3d",
   "metadata": {},
   "source": [
    "##### Create the Pareto Chart:¶\n",
    "\n",
    "##### The Pareto Chart below visualizes how the transaction volume is accumulated across the RFM classes.\n",
    "\n",
    "##### From the chart, we can conclude that the Important Developing Customer, Most Valuable Customer, and Important Recalling Customer classes have contributed to over 90% total transaction volume. These customers account for 50% of the bank's overall customer populatiuon. Even if the number is not 20%, it still shows the important of customer segmentation and targeted service. If we treat the volume as the core KPI, we should focus most our resources providing better products and services to these classes and\n"
   ]
  },
  {
   "cell_type": "code",
   "execution_count": 123,
   "id": "72c03bb9-1dc7-4861-a3d2-d00e2f9cbffa",
   "metadata": {},
   "outputs": [
    {
     "data": {
      "image/png": "[encoded data removed]",
      "text/plain": [
       "<Figure size 1000x600 with 2 Axes>"
      ]
     },
     "metadata": {},
     "output_type": "display_data"
    }
   ],
   "source": [
    "fig, ax = plt.subplots(figsize = (10, 6))\n",
    "\n",
    "# Bar plot of transaction volume\n",
    "ax.bar(pareto_df.index, pareto_df[\"Transaction_Amt\"], color = 'slateblue')\n",
    "ax.set_title(\"Pareto Chart of RFM Customer Classes\", size = 25, y = 1.05)\n",
    "ax.set_xlabel(\"Transaction Volume\")\n",
    "ax.set_ylabel(\"Frequency\")\n",
    "ax.grid(None)\n",
    "\n",
    "# Line plot of accumulated volume percentage\n",
    "ax2 = ax.twinx()\n",
    "ax2.plot(pareto_df.index, pareto_df[\"Cum_Percent\"], color = \"limegreen\", marker = \"o\", ms = 8)\n",
    "ax2.axhline(80, color = \"orange\", linestyle = \"dashed\")\n",
    "ax2.yaxis.set_major_formatter(PercentFormatter())\n",
    "ax2.set_ylabel(\"Cumulative Percentage\")\n",
    "\n",
    "# Wrap x-axis tick labels\n",
    "import textwrap\n",
    "wrapped_labels = [textwrap.fill(label, 15) for label in pareto_df.index]\n",
    "ax.set_xticklabels(wrapped_labels, size = 12)\n",
    "\n",
    "# Enlarge and reposition the arrow\n",
    "annotation_text = \"{:,} (20%)\".format(int(0.2 * data_RFM.shape[0]))\n",
    "ax2.annotate(\"\", xy = (0.4, 0.8), xytext = (0.43, 0.8),\n",
    "            xycoords = 'axes fraction', textcoords = 'axes fraction',\n",
    "            arrowprops=dict(arrowstyle=\"-[,widthB = 4.0, lengthB = 0.8\", lw = 2.5, color = 'black'),\n",
    "            annotation_clip=False)\n",
    "\n",
    "\n",
    "ax2.annotate(annotation_text, xy = (0.53, 0.79),\n",
    "            xycoords = 'axes fraction', fontsize = 15, ha = 'center')\n",
    "\n",
    "plt.show()"
   ]
  },
  {
   "cell_type": "markdown",
   "id": "a5643f8a-6072-4ded-97de-7d3d6d2f41ed",
   "metadata": {},
   "source": [
    "#### Conclusion\n",
    "\n",
    "##### The project's goal was to segment bank customers using the RFM (Recency, Frequency, and Monetary) model and then analyze these segments using the Pareto Principle, also known as the 80/20 rule.\n",
    "\n",
    "##### The analysis revealed that a small portion of the customer base accounts for the majority of the total transaction volume. Specifically, the customer classes identified as \"Important Developing Customer,\" \"Most Valuable Customer,\" and \"Important Recalling Customer\" contributed to over 90% of the total transaction volume. These three segments together make up about 50% of the bank's total customer population.\n",
    "\n",
    "##### This finding validates the importance of customer segmentation and targeted service. The conclusion is that the bank should prioritize its resources to provide better products and services to these valuable customer groups in order to maximize profitability and improve customer satisfaction."
   ]
  }
 ],
 "metadata": {
  "kernelspec": {
   "display_name": "Python 3 (ipykernel)",
   "language": "python",
   "name": "python3"
  },
  "language_info": {
   "codemirror_mode": {
    "name": "ipython",
    "version": 3
   },
   "file_extension": ".py",
   "mimetype": "text/x-python",
   "name": "python",
   "nbconvert_exporter": "python",
   "pygments_lexer": "ipython3",
   "version": "3.12.4"
  }
 },
 "nbformat": 4,
 "nbformat_minor": 5
}
